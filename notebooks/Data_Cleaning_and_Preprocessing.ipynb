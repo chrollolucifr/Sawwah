{
  "nbformat": 4,
  "nbformat_minor": 0,
  "metadata": {
    "colab": {
      "provenance": [],
      "toc_visible": true
    },
    "kernelspec": {
      "name": "python3",
      "display_name": "Python 3"
    },
    "language_info": {
      "name": "python"
    }
  },
  "cells": [
    {
      "cell_type": "markdown",
      "source": [
        "#Overview\n",
        "\n",
        "This notebook provides a comprehensive data cleaning and preprocessing pipeline for multilingual datasets in Arabic and English, including:\n",
        "\n",
        "1. **Cities** – Tourist and historical locations in Saudi Arabia.\n",
        "\n",
        "2. **Projects** – Major development projects in various regions.\n",
        "\n",
        "3. **Historical Characters** – Key figures from Saudi history.\n",
        "\n",
        "##Purpose:\n",
        "\n",
        "Ensure all datasets are clean, uniform, and ready for analysis and NLP/RAG system.\n",
        "\n",
        "Handle common data issues such as:\n",
        "\n",
        "* Missing values\n",
        "\n",
        "* Duplicate rows\n",
        "\n",
        "* Inconsistent text formatting (newlines, extra spaces, special characters)\n",
        "\n",
        "* Correct encoding for Arabic text\n",
        "\n",
        "\n",
        "##Key Steps in the Notebook:\n",
        "\n",
        "1. Convert columns to string for uniformity.\n",
        "\n",
        "2. Remove missing values.\n",
        "\n",
        "3. Clean text formatting and remove unwanted characters.\n",
        "\n",
        "4. Recalculate content/text length.\n",
        "\n",
        "5. Remove duplicate entries.\n",
        "\n",
        "6. Optional advanced cleaning (e.g., swap or correct links in Cities datasets).\n",
        "\n",
        "7. Final inspection and save cleaned datasets in UTF-8 format.\n",
        "\n",
        "##Output\n",
        "\n",
        "Cleaned datasets ready for data analysis, machine learning models, and retrieval-augmented generation (RAG) systems.\n",
        "\n",
        "##Data Sources\n",
        "**Cities datasets**: Collected from the **Open Data Platform** (Saudi Arabia).\n",
        "\n",
        "**Projects datasets**: Compiled using **Saudi Projects** Database and the **Open Data Platform**.\n",
        "\n",
        "**Historical Characters dataset**: Compiled from **Saudipedia**."
      ],
      "metadata": {
        "id": "OBNLOUTj8oe3"
      }
    },
    {
      "cell_type": "markdown",
      "source": [
        "#Cities"
      ],
      "metadata": {
        "id": "ylviBepuozwv"
      }
    },
    {
      "cell_type": "markdown",
      "source": [
        "##Feature Description\n",
        "\n",
        "**DESTINATION**: Name of the city or region.\n",
        "\n",
        "**NAME**: Name of the tourist or historical place.\n",
        "\n",
        "**DESCRIPTION**: Text describing the place, its significance, or attractions.\n",
        "\n",
        "**SM/REFERENCE LINKS**: Official website or social media links of the place.\n",
        "\n",
        "**LOCATION**: Links to Google Maps or other references.\n",
        "\n",
        "**DESCRIPTION_LENGTH**: Number of characters in the DESCRIPTION column."
      ],
      "metadata": {
        "id": "7kVf-5NJ-Hi1"
      }
    },
    {
      "cell_type": "markdown",
      "source": [
        "##Load the Dataset"
      ],
      "metadata": {
        "id": "oQDivXY-o4BF"
      }
    },
    {
      "cell_type": "code",
      "source": [
        "import pandas as pd\n",
        "\n",
        "# Load datasets\n",
        "ar_cities = pd.read_excel(\"/content/merged_cities_arabic_final_unique.xlsx\")\n",
        "en_cities = pd.read_excel(\"/content/merged_cities_english_final_unique.xlsx\")\n",
        "\n",
        "# Inspect the first rows\n",
        "print(\"Arabic Cities Sample:\")\n",
        "print(ar_cities.head())\n",
        "print(\"\\nEnglish Cities Sample:\")\n",
        "print(en_cities.head())\n"
      ],
      "metadata": {
        "colab": {
          "base_uri": "https://localhost:8080/"
        },
        "id": "jeuZkdl1ncVf",
        "outputId": "e55046a7-af7d-43ef-bd74-7f7aa077ab98"
      },
      "execution_count": null,
      "outputs": [
        {
          "output_type": "stream",
          "name": "stdout",
          "text": [
            "Arabic Cities Sample:\n",
            "  DESTINATION               NAME  \\\n",
            "0         جدة         بيت عنقاوي   \n",
            "1         جدة           حلبة جدة   \n",
            "2         جدة           بيت ذاكر   \n",
            "3         جدة           بيت زنيل   \n",
            "4         جدة  منتزه سيان المائي   \n",
            "\n",
            "                                         DESCRIPTION  \\\n",
            "0  بيت العنقوي يقع في جدة التاريخية، ويُعدّ من ال...   \n",
            "1  حلبة جدة، المعروفة أيضًا باسم “جدة ستريت سيركي...   \n",
            "2  بيت ذاكر هو بيت تاريخي في جدة التاريخية، يُمثّ...   \n",
            "3  بيت زينل يقع في مدخل جدة التاريخية، ويُعد من أ...   \n",
            "4  منتزه سيان المائي هو وجهة ترفيهية مائية حديثة ...   \n",
            "\n",
            "                                  SM/REFERENCE LINKS  \\\n",
            "0  https://www.google.com/maps/place/Angawi+House...   \n",
            "1          https://maps.app.goo.gl/xHBgwz1HTeiFCHzq6   \n",
            "2          https://maps.app.goo.gl/ypUxmGfT4QSdpgW37   \n",
            "3          https://maps.app.goo.gl/nax3EB4xUGn69Y4k7   \n",
            "4  https://www.google.com/maps/place/Cyan+Waterpa...   \n",
            "\n",
            "                                            LOCATION  DESCRIPTION_LENGTH  \n",
            "0    https://www.instagram.com/samiangawiarchitects/               102.0  \n",
            "1     https://www.instagram.com/jeddahcircuit/?hl=en               127.0  \n",
            "2       https://www.visitalbalad.com/en/explore/1550               104.0  \n",
            "3  https://www.instagram.com/jeddahalbalad.sa?igs...                68.0  \n",
            "4  https://www.instagram.com/cyanwaterpark?utm_so...                94.0  \n",
            "\n",
            "English Cities Sample:\n",
            "  DESTINATION                    NAME  \\\n",
            "0        abha          al aaqaba view   \n",
            "1        abha       al basta district   \n",
            "2        abha        al dabab walkway   \n",
            "3        abha         al ghayl valley   \n",
            "4        abha  al muftaha art village   \n",
            "\n",
            "                                         DESCRIPTION  \\\n",
            "0  Perched high above the city, Al Aaqaba View of...   \n",
            "1  The historic heart of Abha, Al Basta District ...   \n",
            "2  Known as the Fog Walkway, this elevated path o...   \n",
            "3  A hidden gem near the city, Al Ghayl Valley is...   \n",
            "4  A cultural landmark in Abha, Al Muftaha Art Vi...   \n",
            "\n",
            "                          SM/REFERENCE LINKS  \\\n",
            "0                   https://g.co/kgs/htz7osq   \n",
            "1  https://maps.app.goo.gl/kppkmnmefytzznvz6   \n",
            "2  https://maps.app.goo.gl/ugdpjbbovqdpdd6w6   \n",
            "3  https://maps.app.goo.gl/ecdwtntfgr93zqwc6   \n",
            "4  https://maps.app.goo.gl/pfvnoecorpcgtly78   \n",
            "\n",
            "                                            LOCATION  DESCRIPTION_LENGTH  \n",
            "0         https://www.traveldiv.com/tourism-in-abha/                78.0  \n",
            "1      https://discoveraseer.com/en/places/hy-albsth               134.0  \n",
            "2  https://discoveraseer.com/en/places/mmsha-aldabab               143.0  \n",
            "3    https://discoveraseer.com/en/places/oady-alghyl               136.0  \n",
            "4  https://www.visitsaudi.com/en/aseer/attraction...               285.0  \n"
          ]
        }
      ]
    },
    {
      "cell_type": "markdown",
      "source": [
        "##Convert Columns to String"
      ],
      "metadata": {
        "id": "GhovrTJBqFdA"
      }
    },
    {
      "cell_type": "code",
      "source": [
        "# Columns to convert\n",
        "text_cols = ['DESTINATION', 'NAME', 'DESCRIPTION']\n",
        "url_cols = ['LOCATION']  # Only convert to string, do not clean\n",
        "\n",
        "# Convert text columns to string\n",
        "for col in text_cols:\n",
        "    ar_cities[col] = ar_cities[col].astype(str)\n",
        "    en_cities[col] = en_cities[col].astype(str)\n",
        "\n",
        "# Convert URL columns to string without cleaning\n",
        "for col in url_cols:\n",
        "    ar_cities[col] = ar_cities[col].astype(str)\n",
        "    en_cities[col] = en_cities[col].astype(str)\n",
        "\n",
        "# Verify types\n",
        "print(ar_cities.dtypes)\n",
        "print(en_cities.dtypes)"
      ],
      "metadata": {
        "colab": {
          "base_uri": "https://localhost:8080/"
        },
        "id": "n3YOazzopBx0",
        "outputId": "cbe724c9-4997-4d50-c71e-88ee0ca26fc9"
      },
      "execution_count": null,
      "outputs": [
        {
          "output_type": "stream",
          "name": "stdout",
          "text": [
            "DESTINATION            object\n",
            "NAME                   object\n",
            "DESCRIPTION            object\n",
            "SM/REFERENCE LINKS     object\n",
            "LOCATION               object\n",
            "DESCRIPTION_LENGTH    float64\n",
            "dtype: object\n",
            "DESTINATION            object\n",
            "NAME                   object\n",
            "DESCRIPTION            object\n",
            "SM/REFERENCE LINKS     object\n",
            "LOCATION               object\n",
            "DESCRIPTION_LENGTH    float64\n",
            "dtype: object\n"
          ]
        }
      ]
    },
    {
      "cell_type": "markdown",
      "source": [
        "##Handle Missing Values"
      ],
      "metadata": {
        "id": "qvTmBDrGqRXe"
      }
    },
    {
      "cell_type": "code",
      "source": [
        "# Drop rows with missing NAME or DESCRIPTION\n",
        "ar_cities = ar_cities.dropna(subset=['NAME', 'DESCRIPTION']).reset_index(drop=True)\n",
        "en_cities = en_cities.dropna(subset=['NAME', 'DESCRIPTION']).reset_index(drop=True)\n",
        "\n",
        "# Check the shape after dropping\n",
        "print(\"Arabic Cities Shape after removing missing values:\", ar_cities.shape)\n",
        "print(\"English Cities Shape after removing missing values:\", en_cities.shape)"
      ],
      "metadata": {
        "colab": {
          "base_uri": "https://localhost:8080/"
        },
        "id": "UX-HPxzNpW0K",
        "outputId": "9035f057-d2b4-416d-c891-336362423721"
      },
      "execution_count": null,
      "outputs": [
        {
          "output_type": "stream",
          "name": "stdout",
          "text": [
            "Arabic Cities Shape after removing missing values: (187, 6)\n",
            "English Cities Shape after removing missing values: (189, 6)\n"
          ]
        }
      ]
    },
    {
      "cell_type": "markdown",
      "source": [
        "##Clean Text Formatting"
      ],
      "metadata": {
        "id": "iPF_sU-Xqh-u"
      }
    },
    {
      "cell_type": "code",
      "source": [
        "# Columns to clean\n",
        "clean_cols = ['DESTINATION', 'NAME', 'DESCRIPTION']\n",
        "\n",
        "# Clean text columns\n",
        "for col in clean_cols:\n",
        "    ar_cities[col] = ar_cities[col].str.replace('\\\\n', ' ', regex=True).str.strip()\n",
        "    en_cities[col] = en_cities[col].str.replace('\\\\n', ' ', regex=True).str.strip()\n",
        "\n",
        "# Display first few rows to verify\n",
        "print(\"Arabic Cities Sample after text cleaning:\")\n",
        "print(ar_cities.head())\n",
        "print(\"\\nEnglish Cities Sample after text cleaning:\")\n",
        "print(en_cities.head())"
      ],
      "metadata": {
        "colab": {
          "base_uri": "https://localhost:8080/"
        },
        "id": "H9zeMKEAqkkW",
        "outputId": "028ed7a3-b9fa-4102-c4ed-9601e4b788d1"
      },
      "execution_count": null,
      "outputs": [
        {
          "output_type": "stream",
          "name": "stdout",
          "text": [
            "Arabic Cities Sample after text cleaning:\n",
            "  DESTINATION               NAME  \\\n",
            "0         جدة         بيت عنقاوي   \n",
            "1         جدة           حلبة جدة   \n",
            "2         جدة           بيت ذاكر   \n",
            "3         جدة           بيت زنيل   \n",
            "4         جدة  منتزه سيان المائي   \n",
            "\n",
            "                                         DESCRIPTION  \\\n",
            "0  بيت العنقوي يقع في جدة التاريخية، ويُعدّ من ال...   \n",
            "1  حلبة جدة، المعروفة أيضًا باسم “جدة ستريت سيركي...   \n",
            "2  بيت ذاكر هو بيت تاريخي في جدة التاريخية، يُمثّ...   \n",
            "3  بيت زينل يقع في مدخل جدة التاريخية، ويُعد من أ...   \n",
            "4  منتزه سيان المائي هو وجهة ترفيهية مائية حديثة ...   \n",
            "\n",
            "                                  SM/REFERENCE LINKS  \\\n",
            "0  https://www.google.com/maps/place/Angawi+House...   \n",
            "1          https://maps.app.goo.gl/xHBgwz1HTeiFCHzq6   \n",
            "2          https://maps.app.goo.gl/ypUxmGfT4QSdpgW37   \n",
            "3          https://maps.app.goo.gl/nax3EB4xUGn69Y4k7   \n",
            "4  https://www.google.com/maps/place/Cyan+Waterpa...   \n",
            "\n",
            "                                            LOCATION  DESCRIPTION_LENGTH  \n",
            "0    https://www.instagram.com/samiangawiarchitects/               102.0  \n",
            "1     https://www.instagram.com/jeddahcircuit/?hl=en               127.0  \n",
            "2       https://www.visitalbalad.com/en/explore/1550               104.0  \n",
            "3  https://www.instagram.com/jeddahalbalad.sa?igs...                68.0  \n",
            "4  https://www.instagram.com/cyanwaterpark?utm_so...                94.0  \n",
            "\n",
            "English Cities Sample after text cleaning:\n",
            "  DESTINATION                    NAME  \\\n",
            "0        abha          al aaqaba view   \n",
            "1        abha       al basta district   \n",
            "2        abha        al dabab walkway   \n",
            "3        abha         al ghayl valley   \n",
            "4        abha  al muftaha art village   \n",
            "\n",
            "                                         DESCRIPTION  \\\n",
            "0  Perched high above the city, Al Aaqaba View of...   \n",
            "1  The historic heart of Abha, Al Basta District ...   \n",
            "2  Known as the Fog Walkway, this elevated path o...   \n",
            "3  A hidden gem near the city, Al Ghayl Valley is...   \n",
            "4  A cultural landmark in Abha, Al Muftaha Art Vi...   \n",
            "\n",
            "                          SM/REFERENCE LINKS  \\\n",
            "0                   https://g.co/kgs/htz7osq   \n",
            "1  https://maps.app.goo.gl/kppkmnmefytzznvz6   \n",
            "2  https://maps.app.goo.gl/ugdpjbbovqdpdd6w6   \n",
            "3  https://maps.app.goo.gl/ecdwtntfgr93zqwc6   \n",
            "4  https://maps.app.goo.gl/pfvnoecorpcgtly78   \n",
            "\n",
            "                                            LOCATION  DESCRIPTION_LENGTH  \n",
            "0         https://www.traveldiv.com/tourism-in-abha/                78.0  \n",
            "1      https://discoveraseer.com/en/places/hy-albsth               134.0  \n",
            "2  https://discoveraseer.com/en/places/mmsha-aldabab               143.0  \n",
            "3    https://discoveraseer.com/en/places/oady-alghyl               136.0  \n",
            "4  https://www.visitsaudi.com/en/aseer/attraction...               285.0  \n"
          ]
        }
      ]
    },
    {
      "cell_type": "markdown",
      "source": [
        "##Remove Duplicate Rows"
      ],
      "metadata": {
        "id": "NWS1-ME4qwpf"
      }
    },
    {
      "cell_type": "code",
      "source": [
        "# Drop duplicates and reset index\n",
        "ar_cities = ar_cities.drop_duplicates(subset=['NAME', 'DESTINATION']).reset_index(drop=True)\n",
        "en_cities = en_cities.drop_duplicates(subset=['NAME', 'DESTINATION']).reset_index(drop=True)\n",
        "\n",
        "# Check the shape after removing duplicates\n",
        "print(\"Arabic Cities Shape after removing duplicates:\", ar_cities.shape)\n",
        "print(\"English Cities Shape after removing duplicates:\", en_cities.shape) #No duplicates were found, so all entries are already unique."
      ],
      "metadata": {
        "colab": {
          "base_uri": "https://localhost:8080/"
        },
        "id": "ziql8oFSqxmd",
        "outputId": "f655e7f7-5d62-496f-fb97-1a13deebe3f4"
      },
      "execution_count": null,
      "outputs": [
        {
          "output_type": "stream",
          "name": "stdout",
          "text": [
            "Arabic Cities Shape after removing duplicates: (187, 6)\n",
            "English Cities Shape after removing duplicates: (189, 6)\n"
          ]
        }
      ]
    },
    {
      "cell_type": "markdown",
      "source": [
        "##Recalculate Description Length"
      ],
      "metadata": {
        "id": "sqK-d9kjrEuI"
      }
    },
    {
      "cell_type": "code",
      "source": [
        "# Recalculate DESCRIPTION_LENGTH\n",
        "ar_cities['DESCRIPTION_LENGTH'] = ar_cities['DESCRIPTION'].str.len()\n",
        "en_cities['DESCRIPTION_LENGTH'] = en_cities['DESCRIPTION'].str.len()\n",
        "\n",
        "# Check the first few rows to verify\n",
        "print(\"Arabic Cities Sample with updated DESCRIPTION_LENGTH:\")\n",
        "print(ar_cities[['NAME', 'DESCRIPTION_LENGTH']].head())\n",
        "print(\"\\nEnglish Cities Sample with updated DESCRIPTION_LENGTH:\")\n",
        "print(en_cities[['NAME', 'DESCRIPTION_LENGTH']].head())"
      ],
      "metadata": {
        "colab": {
          "base_uri": "https://localhost:8080/"
        },
        "id": "wEe0RV0yq-iD",
        "outputId": "34b0f23a-8859-4638-858b-0e4b76df6c6f"
      },
      "execution_count": null,
      "outputs": [
        {
          "output_type": "stream",
          "name": "stdout",
          "text": [
            "Arabic Cities Sample with updated DESCRIPTION_LENGTH:\n",
            "                NAME  DESCRIPTION_LENGTH\n",
            "0         بيت عنقاوي                 895\n",
            "1           حلبة جدة                 995\n",
            "2           بيت ذاكر                1399\n",
            "3           بيت زنيل                 658\n",
            "4  منتزه سيان المائي                 568\n",
            "\n",
            "English Cities Sample with updated DESCRIPTION_LENGTH:\n",
            "                     NAME  DESCRIPTION_LENGTH\n",
            "0          al aaqaba view                 390\n",
            "1       al basta district                 526\n",
            "2        al dabab walkway                 454\n",
            "3         al ghayl valley                 431\n",
            "4  al muftaha art village                 593\n"
          ]
        }
      ]
    },
    {
      "cell_type": "markdown",
      "source": [
        "##Inspect Cleaned Data"
      ],
      "metadata": {
        "id": "-w4H7L3vrO4p"
      }
    },
    {
      "cell_type": "code",
      "source": [
        "# Check final shapes\n",
        "print(\"Final Arabic Cities Shape:\", ar_cities.shape)\n",
        "print(\"Final English Cities Shape:\", en_cities.shape)\n",
        "\n",
        "# Preview first few rows\n",
        "print(\"\\nArabic Cities Sample:\")\n",
        "print(ar_cities.head())\n",
        "\n",
        "print(\"\\nEnglish Cities Sample:\")\n",
        "print(en_cities.head())"
      ],
      "metadata": {
        "colab": {
          "base_uri": "https://localhost:8080/"
        },
        "id": "nXD_NTlvrSY2",
        "outputId": "28a2cc39-060f-4da0-b788-6bbbc031257d"
      },
      "execution_count": null,
      "outputs": [
        {
          "output_type": "stream",
          "name": "stdout",
          "text": [
            "Final Arabic Cities Shape: (187, 6)\n",
            "Final English Cities Shape: (189, 6)\n",
            "\n",
            "Arabic Cities Sample:\n",
            "  DESTINATION               NAME  \\\n",
            "0         جدة         بيت عنقاوي   \n",
            "1         جدة           حلبة جدة   \n",
            "2         جدة           بيت ذاكر   \n",
            "3         جدة           بيت زنيل   \n",
            "4         جدة  منتزه سيان المائي   \n",
            "\n",
            "                                         DESCRIPTION  \\\n",
            "0  بيت العنقوي يقع في جدة التاريخية، ويُعدّ من ال...   \n",
            "1  حلبة جدة، المعروفة أيضًا باسم “جدة ستريت سيركي...   \n",
            "2  بيت ذاكر هو بيت تاريخي في جدة التاريخية، يُمثّ...   \n",
            "3  بيت زينل يقع في مدخل جدة التاريخية، ويُعد من أ...   \n",
            "4  منتزه سيان المائي هو وجهة ترفيهية مائية حديثة ...   \n",
            "\n",
            "                                  SM/REFERENCE LINKS  \\\n",
            "0  https://www.google.com/maps/place/Angawi+House...   \n",
            "1          https://maps.app.goo.gl/xHBgwz1HTeiFCHzq6   \n",
            "2          https://maps.app.goo.gl/ypUxmGfT4QSdpgW37   \n",
            "3          https://maps.app.goo.gl/nax3EB4xUGn69Y4k7   \n",
            "4  https://www.google.com/maps/place/Cyan+Waterpa...   \n",
            "\n",
            "                                            LOCATION  DESCRIPTION_LENGTH  \n",
            "0    https://www.instagram.com/samiangawiarchitects/                 895  \n",
            "1     https://www.instagram.com/jeddahcircuit/?hl=en                 995  \n",
            "2       https://www.visitalbalad.com/en/explore/1550                1399  \n",
            "3  https://www.instagram.com/jeddahalbalad.sa?igs...                 658  \n",
            "4  https://www.instagram.com/cyanwaterpark?utm_so...                 568  \n",
            "\n",
            "English Cities Sample:\n",
            "  DESTINATION                    NAME  \\\n",
            "0        abha          al aaqaba view   \n",
            "1        abha       al basta district   \n",
            "2        abha        al dabab walkway   \n",
            "3        abha         al ghayl valley   \n",
            "4        abha  al muftaha art village   \n",
            "\n",
            "                                         DESCRIPTION  \\\n",
            "0  Perched high above the city, Al Aaqaba View of...   \n",
            "1  The historic heart of Abha, Al Basta District ...   \n",
            "2  Known as the Fog Walkway, this elevated path o...   \n",
            "3  A hidden gem near the city, Al Ghayl Valley is...   \n",
            "4  A cultural landmark in Abha, Al Muftaha Art Vi...   \n",
            "\n",
            "                          SM/REFERENCE LINKS  \\\n",
            "0                   https://g.co/kgs/htz7osq   \n",
            "1  https://maps.app.goo.gl/kppkmnmefytzznvz6   \n",
            "2  https://maps.app.goo.gl/ugdpjbbovqdpdd6w6   \n",
            "3  https://maps.app.goo.gl/ecdwtntfgr93zqwc6   \n",
            "4  https://maps.app.goo.gl/pfvnoecorpcgtly78   \n",
            "\n",
            "                                            LOCATION  DESCRIPTION_LENGTH  \n",
            "0         https://www.traveldiv.com/tourism-in-abha/                 390  \n",
            "1      https://discoveraseer.com/en/places/hy-albsth                 526  \n",
            "2  https://discoveraseer.com/en/places/mmsha-aldabab                 454  \n",
            "3    https://discoveraseer.com/en/places/oady-alghyl                 431  \n",
            "4  https://www.visitsaudi.com/en/aseer/attraction...                 593  \n"
          ]
        }
      ]
    },
    {
      "cell_type": "markdown",
      "source": [
        "##Swap Google Maps Links Between Columns"
      ],
      "metadata": {
        "id": "SN1tPm-TtUsB"
      }
    },
    {
      "cell_type": "code",
      "source": [
        "import re\n",
        "\n",
        "def swap_maps_links(df):\n",
        "    new_location = []\n",
        "    new_reference = []\n",
        "\n",
        "    for loc, ref in zip(df['LOCATION'], df['SM/REFERENCE LINKS']):\n",
        "        # Find maps link in reference\n",
        "        maps_in_ref = re.findall(r'https?://[^\\s]*maps[^\\s]*', str(ref))\n",
        "\n",
        "        if maps_in_ref:\n",
        "            # Take first maps link from reference to LOCATION\n",
        "            new_location.append(maps_in_ref[0])\n",
        "            # Move old LOCATION value to reference, combine with original ref (without maps link)\n",
        "            ref_cleaned = str(ref).replace(maps_in_ref[0], '').strip()\n",
        "            combined_ref = loc.strip()\n",
        "            if ref_cleaned:\n",
        "                combined_ref += \" | \" + ref_cleaned  # keep other reference links\n",
        "            new_reference.append(combined_ref)\n",
        "        else:\n",
        "            # No maps link in reference → keep as is\n",
        "            new_location.append(loc)\n",
        "            new_reference.append(ref)\n",
        "\n",
        "    df['LOCATION'] = new_location\n",
        "    df['SM/REFERENCE LINKS'] = new_reference\n",
        "    return df\n",
        "\n",
        "# Apply to both datasets\n",
        "ar_cities = swap_maps_links(ar_cities)\n",
        "en_cities = swap_maps_links(en_cities)\n",
        "\n",
        "# Check results\n",
        "print(\"Arabic Cities Sample after swapping maps links:\")\n",
        "print(ar_cities[['NAME', 'LOCATION', 'SM/REFERENCE LINKS']].head())\n",
        "\n",
        "print(\"\\nEnglish Cities Sample after swapping maps links:\")\n",
        "print(en_cities[['NAME', 'LOCATION', 'SM/REFERENCE LINKS']].head())"
      ],
      "metadata": {
        "colab": {
          "base_uri": "https://localhost:8080/"
        },
        "id": "yRNaF_WasAcu",
        "outputId": "77712c6c-0cd6-498d-c890-98527b852254"
      },
      "execution_count": null,
      "outputs": [
        {
          "output_type": "stream",
          "name": "stdout",
          "text": [
            "Arabic Cities Sample after swapping maps links:\n",
            "                NAME                                           LOCATION  \\\n",
            "0         بيت عنقاوي  https://www.google.com/maps/place/Angawi+House...   \n",
            "1           حلبة جدة          https://maps.app.goo.gl/xHBgwz1HTeiFCHzq6   \n",
            "2           بيت ذاكر          https://maps.app.goo.gl/ypUxmGfT4QSdpgW37   \n",
            "3           بيت زنيل          https://maps.app.goo.gl/nax3EB4xUGn69Y4k7   \n",
            "4  منتزه سيان المائي  https://www.google.com/maps/place/Cyan+Waterpa...   \n",
            "\n",
            "                                  SM/REFERENCE LINKS  \n",
            "0    https://www.instagram.com/samiangawiarchitects/  \n",
            "1     https://www.instagram.com/jeddahcircuit/?hl=en  \n",
            "2       https://www.visitalbalad.com/en/explore/1550  \n",
            "3  https://www.instagram.com/jeddahalbalad.sa?igs...  \n",
            "4  https://www.instagram.com/cyanwaterpark?utm_so...  \n",
            "\n",
            "English Cities Sample after swapping maps links:\n",
            "                     NAME                                    LOCATION  \\\n",
            "0          al aaqaba view  https://www.traveldiv.com/tourism-in-abha/   \n",
            "1       al basta district   https://maps.app.goo.gl/kppkmnmefytzznvz6   \n",
            "2        al dabab walkway   https://maps.app.goo.gl/ugdpjbbovqdpdd6w6   \n",
            "3         al ghayl valley   https://maps.app.goo.gl/ecdwtntfgr93zqwc6   \n",
            "4  al muftaha art village   https://maps.app.goo.gl/pfvnoecorpcgtly78   \n",
            "\n",
            "                                  SM/REFERENCE LINKS  \n",
            "0                           https://g.co/kgs/htz7osq  \n",
            "1      https://discoveraseer.com/en/places/hy-albsth  \n",
            "2  https://discoveraseer.com/en/places/mmsha-aldabab  \n",
            "3    https://discoveraseer.com/en/places/oady-alghyl  \n",
            "4  https://www.visitsaudi.com/en/aseer/attraction...  \n"
          ]
        }
      ]
    },
    {
      "cell_type": "markdown",
      "source": [
        "##Arabic and English Text Cleaning"
      ],
      "metadata": {
        "id": "UJqh442stiu9"
      }
    },
    {
      "cell_type": "code",
      "source": [
        "def clean_advanced_arabic(text):\n",
        "    # Remove emojis and symbols\n",
        "    text = re.sub(r'[^\\w\\sء-ي]', '', text)\n",
        "    # Remove extra spaces\n",
        "    text = re.sub(r'\\s+', ' ', text).strip()\n",
        "    return text\n",
        "\n",
        "# Apply to NAME and DESCRIPTION\n",
        "ar_cities['NAME'] = ar_cities['NAME'].apply(clean_advanced_arabic)\n",
        "ar_cities['DESCRIPTION'] = ar_cities['DESCRIPTION'].apply(clean_advanced_arabic)"
      ],
      "metadata": {
        "id": "fGOVIuZltfc0"
      },
      "execution_count": null,
      "outputs": []
    },
    {
      "cell_type": "code",
      "source": [
        "def clean_advanced_english(text):\n",
        "    # Remove special characters except letters, numbers, and basic punctuation\n",
        "    text = re.sub(r'[^A-Za-z0-9\\s.,]', '', text)\n",
        "    # Remove extra spaces\n",
        "    text = re.sub(r'\\s+', ' ', text).strip()\n",
        "    return text\n",
        "\n",
        "# Apply to NAME and DESCRIPTION\n",
        "en_cities['NAME'] = en_cities['NAME'].apply(clean_advanced_english)\n",
        "en_cities['DESCRIPTION'] = en_cities['DESCRIPTION'].apply(clean_advanced_english)"
      ],
      "metadata": {
        "id": "--1KjcQRtpyB"
      },
      "execution_count": null,
      "outputs": []
    },
    {
      "cell_type": "code",
      "source": [
        "ar_cities.head()"
      ],
      "metadata": {
        "colab": {
          "base_uri": "https://localhost:8080/",
          "height": 451
        },
        "id": "M7dU1AxQttLc",
        "outputId": "7932f776-7118-462d-f557-84fd23d3c662"
      },
      "execution_count": null,
      "outputs": [
        {
          "output_type": "execute_result",
          "data": {
            "text/plain": [
              "  DESTINATION               NAME  \\\n",
              "0         جدة         بيت عنقاوي   \n",
              "1         جدة           حلبة جدة   \n",
              "2         جدة           بيت ذاكر   \n",
              "3         جدة           بيت زنيل   \n",
              "4         جدة  منتزه سيان المائي   \n",
              "\n",
              "                                         DESCRIPTION  \\\n",
              "0  بيت العنقوي يقع في جدة التاريخية ويعد من الأمث...   \n",
              "1  حلبة جدة المعروفة أيضا باسم جدة ستريت سيركيت J...   \n",
              "2  بيت ذاكر هو بيت تاريخي في جدة التاريخية يمثل ج...   \n",
              "3  بيت زينل يقع في مدخل جدة التاريخية ويعد من أبر...   \n",
              "4  منتزه سيان المائي هو وجهة ترفيهية مائية حديثة ...   \n",
              "\n",
              "                                  SM/REFERENCE LINKS  \\\n",
              "0    https://www.instagram.com/samiangawiarchitects/   \n",
              "1     https://www.instagram.com/jeddahcircuit/?hl=en   \n",
              "2       https://www.visitalbalad.com/en/explore/1550   \n",
              "3  https://www.instagram.com/jeddahalbalad.sa?igs...   \n",
              "4  https://www.instagram.com/cyanwaterpark?utm_so...   \n",
              "\n",
              "                                            LOCATION  DESCRIPTION_LENGTH  \n",
              "0  https://www.google.com/maps/place/Angawi+House...                 895  \n",
              "1          https://maps.app.goo.gl/xHBgwz1HTeiFCHzq6                 995  \n",
              "2          https://maps.app.goo.gl/ypUxmGfT4QSdpgW37                1399  \n",
              "3          https://maps.app.goo.gl/nax3EB4xUGn69Y4k7                 658  \n",
              "4  https://www.google.com/maps/place/Cyan+Waterpa...                 568  "
            ],
            "text/html": [
              "\n",
              "  <div id=\"df-2d2e1252-d201-4b27-8f75-031dfe22d299\" class=\"colab-df-container\">\n",
              "    <div>\n",
              "<style scoped>\n",
              "    .dataframe tbody tr th:only-of-type {\n",
              "        vertical-align: middle;\n",
              "    }\n",
              "\n",
              "    .dataframe tbody tr th {\n",
              "        vertical-align: top;\n",
              "    }\n",
              "\n",
              "    .dataframe thead th {\n",
              "        text-align: right;\n",
              "    }\n",
              "</style>\n",
              "<table border=\"1\" class=\"dataframe\">\n",
              "  <thead>\n",
              "    <tr style=\"text-align: right;\">\n",
              "      <th></th>\n",
              "      <th>DESTINATION</th>\n",
              "      <th>NAME</th>\n",
              "      <th>DESCRIPTION</th>\n",
              "      <th>SM/REFERENCE LINKS</th>\n",
              "      <th>LOCATION</th>\n",
              "      <th>DESCRIPTION_LENGTH</th>\n",
              "    </tr>\n",
              "  </thead>\n",
              "  <tbody>\n",
              "    <tr>\n",
              "      <th>0</th>\n",
              "      <td>جدة</td>\n",
              "      <td>بيت عنقاوي</td>\n",
              "      <td>بيت العنقوي يقع في جدة التاريخية ويعد من الأمث...</td>\n",
              "      <td>https://www.instagram.com/samiangawiarchitects/</td>\n",
              "      <td>https://www.google.com/maps/place/Angawi+House...</td>\n",
              "      <td>895</td>\n",
              "    </tr>\n",
              "    <tr>\n",
              "      <th>1</th>\n",
              "      <td>جدة</td>\n",
              "      <td>حلبة جدة</td>\n",
              "      <td>حلبة جدة المعروفة أيضا باسم جدة ستريت سيركيت J...</td>\n",
              "      <td>https://www.instagram.com/jeddahcircuit/?hl=en</td>\n",
              "      <td>https://maps.app.goo.gl/xHBgwz1HTeiFCHzq6</td>\n",
              "      <td>995</td>\n",
              "    </tr>\n",
              "    <tr>\n",
              "      <th>2</th>\n",
              "      <td>جدة</td>\n",
              "      <td>بيت ذاكر</td>\n",
              "      <td>بيت ذاكر هو بيت تاريخي في جدة التاريخية يمثل ج...</td>\n",
              "      <td>https://www.visitalbalad.com/en/explore/1550</td>\n",
              "      <td>https://maps.app.goo.gl/ypUxmGfT4QSdpgW37</td>\n",
              "      <td>1399</td>\n",
              "    </tr>\n",
              "    <tr>\n",
              "      <th>3</th>\n",
              "      <td>جدة</td>\n",
              "      <td>بيت زنيل</td>\n",
              "      <td>بيت زينل يقع في مدخل جدة التاريخية ويعد من أبر...</td>\n",
              "      <td>https://www.instagram.com/jeddahalbalad.sa?igs...</td>\n",
              "      <td>https://maps.app.goo.gl/nax3EB4xUGn69Y4k7</td>\n",
              "      <td>658</td>\n",
              "    </tr>\n",
              "    <tr>\n",
              "      <th>4</th>\n",
              "      <td>جدة</td>\n",
              "      <td>منتزه سيان المائي</td>\n",
              "      <td>منتزه سيان المائي هو وجهة ترفيهية مائية حديثة ...</td>\n",
              "      <td>https://www.instagram.com/cyanwaterpark?utm_so...</td>\n",
              "      <td>https://www.google.com/maps/place/Cyan+Waterpa...</td>\n",
              "      <td>568</td>\n",
              "    </tr>\n",
              "  </tbody>\n",
              "</table>\n",
              "</div>\n",
              "    <div class=\"colab-df-buttons\">\n",
              "\n",
              "  <div class=\"colab-df-container\">\n",
              "    <button class=\"colab-df-convert\" onclick=\"convertToInteractive('df-2d2e1252-d201-4b27-8f75-031dfe22d299')\"\n",
              "            title=\"Convert this dataframe to an interactive table.\"\n",
              "            style=\"display:none;\">\n",
              "\n",
              "  <svg xmlns=\"http://www.w3.org/2000/svg\" height=\"24px\" viewBox=\"0 -960 960 960\">\n",
              "    <path d=\"M120-120v-720h720v720H120Zm60-500h600v-160H180v160Zm220 220h160v-160H400v160Zm0 220h160v-160H400v160ZM180-400h160v-160H180v160Zm440 0h160v-160H620v160ZM180-180h160v-160H180v160Zm440 0h160v-160H620v160Z\"/>\n",
              "  </svg>\n",
              "    </button>\n",
              "\n",
              "  <style>\n",
              "    .colab-df-container {\n",
              "      display:flex;\n",
              "      gap: 12px;\n",
              "    }\n",
              "\n",
              "    .colab-df-convert {\n",
              "      background-color: #E8F0FE;\n",
              "      border: none;\n",
              "      border-radius: 50%;\n",
              "      cursor: pointer;\n",
              "      display: none;\n",
              "      fill: #1967D2;\n",
              "      height: 32px;\n",
              "      padding: 0 0 0 0;\n",
              "      width: 32px;\n",
              "    }\n",
              "\n",
              "    .colab-df-convert:hover {\n",
              "      background-color: #E2EBFA;\n",
              "      box-shadow: 0px 1px 2px rgba(60, 64, 67, 0.3), 0px 1px 3px 1px rgba(60, 64, 67, 0.15);\n",
              "      fill: #174EA6;\n",
              "    }\n",
              "\n",
              "    .colab-df-buttons div {\n",
              "      margin-bottom: 4px;\n",
              "    }\n",
              "\n",
              "    [theme=dark] .colab-df-convert {\n",
              "      background-color: #3B4455;\n",
              "      fill: #D2E3FC;\n",
              "    }\n",
              "\n",
              "    [theme=dark] .colab-df-convert:hover {\n",
              "      background-color: #434B5C;\n",
              "      box-shadow: 0px 1px 3px 1px rgba(0, 0, 0, 0.15);\n",
              "      filter: drop-shadow(0px 1px 2px rgba(0, 0, 0, 0.3));\n",
              "      fill: #FFFFFF;\n",
              "    }\n",
              "  </style>\n",
              "\n",
              "    <script>\n",
              "      const buttonEl =\n",
              "        document.querySelector('#df-2d2e1252-d201-4b27-8f75-031dfe22d299 button.colab-df-convert');\n",
              "      buttonEl.style.display =\n",
              "        google.colab.kernel.accessAllowed ? 'block' : 'none';\n",
              "\n",
              "      async function convertToInteractive(key) {\n",
              "        const element = document.querySelector('#df-2d2e1252-d201-4b27-8f75-031dfe22d299');\n",
              "        const dataTable =\n",
              "          await google.colab.kernel.invokeFunction('convertToInteractive',\n",
              "                                                    [key], {});\n",
              "        if (!dataTable) return;\n",
              "\n",
              "        const docLinkHtml = 'Like what you see? Visit the ' +\n",
              "          '<a target=\"_blank\" href=https://colab.research.google.com/notebooks/data_table.ipynb>data table notebook</a>'\n",
              "          + ' to learn more about interactive tables.';\n",
              "        element.innerHTML = '';\n",
              "        dataTable['output_type'] = 'display_data';\n",
              "        await google.colab.output.renderOutput(dataTable, element);\n",
              "        const docLink = document.createElement('div');\n",
              "        docLink.innerHTML = docLinkHtml;\n",
              "        element.appendChild(docLink);\n",
              "      }\n",
              "    </script>\n",
              "  </div>\n",
              "\n",
              "\n",
              "    <div id=\"df-574fab5c-f568-40fb-9bbf-8acef539bcda\">\n",
              "      <button class=\"colab-df-quickchart\" onclick=\"quickchart('df-574fab5c-f568-40fb-9bbf-8acef539bcda')\"\n",
              "                title=\"Suggest charts\"\n",
              "                style=\"display:none;\">\n",
              "\n",
              "<svg xmlns=\"http://www.w3.org/2000/svg\" height=\"24px\"viewBox=\"0 0 24 24\"\n",
              "     width=\"24px\">\n",
              "    <g>\n",
              "        <path d=\"M19 3H5c-1.1 0-2 .9-2 2v14c0 1.1.9 2 2 2h14c1.1 0 2-.9 2-2V5c0-1.1-.9-2-2-2zM9 17H7v-7h2v7zm4 0h-2V7h2v10zm4 0h-2v-4h2v4z\"/>\n",
              "    </g>\n",
              "</svg>\n",
              "      </button>\n",
              "\n",
              "<style>\n",
              "  .colab-df-quickchart {\n",
              "      --bg-color: #E8F0FE;\n",
              "      --fill-color: #1967D2;\n",
              "      --hover-bg-color: #E2EBFA;\n",
              "      --hover-fill-color: #174EA6;\n",
              "      --disabled-fill-color: #AAA;\n",
              "      --disabled-bg-color: #DDD;\n",
              "  }\n",
              "\n",
              "  [theme=dark] .colab-df-quickchart {\n",
              "      --bg-color: #3B4455;\n",
              "      --fill-color: #D2E3FC;\n",
              "      --hover-bg-color: #434B5C;\n",
              "      --hover-fill-color: #FFFFFF;\n",
              "      --disabled-bg-color: #3B4455;\n",
              "      --disabled-fill-color: #666;\n",
              "  }\n",
              "\n",
              "  .colab-df-quickchart {\n",
              "    background-color: var(--bg-color);\n",
              "    border: none;\n",
              "    border-radius: 50%;\n",
              "    cursor: pointer;\n",
              "    display: none;\n",
              "    fill: var(--fill-color);\n",
              "    height: 32px;\n",
              "    padding: 0;\n",
              "    width: 32px;\n",
              "  }\n",
              "\n",
              "  .colab-df-quickchart:hover {\n",
              "    background-color: var(--hover-bg-color);\n",
              "    box-shadow: 0 1px 2px rgba(60, 64, 67, 0.3), 0 1px 3px 1px rgba(60, 64, 67, 0.15);\n",
              "    fill: var(--button-hover-fill-color);\n",
              "  }\n",
              "\n",
              "  .colab-df-quickchart-complete:disabled,\n",
              "  .colab-df-quickchart-complete:disabled:hover {\n",
              "    background-color: var(--disabled-bg-color);\n",
              "    fill: var(--disabled-fill-color);\n",
              "    box-shadow: none;\n",
              "  }\n",
              "\n",
              "  .colab-df-spinner {\n",
              "    border: 2px solid var(--fill-color);\n",
              "    border-color: transparent;\n",
              "    border-bottom-color: var(--fill-color);\n",
              "    animation:\n",
              "      spin 1s steps(1) infinite;\n",
              "  }\n",
              "\n",
              "  @keyframes spin {\n",
              "    0% {\n",
              "      border-color: transparent;\n",
              "      border-bottom-color: var(--fill-color);\n",
              "      border-left-color: var(--fill-color);\n",
              "    }\n",
              "    20% {\n",
              "      border-color: transparent;\n",
              "      border-left-color: var(--fill-color);\n",
              "      border-top-color: var(--fill-color);\n",
              "    }\n",
              "    30% {\n",
              "      border-color: transparent;\n",
              "      border-left-color: var(--fill-color);\n",
              "      border-top-color: var(--fill-color);\n",
              "      border-right-color: var(--fill-color);\n",
              "    }\n",
              "    40% {\n",
              "      border-color: transparent;\n",
              "      border-right-color: var(--fill-color);\n",
              "      border-top-color: var(--fill-color);\n",
              "    }\n",
              "    60% {\n",
              "      border-color: transparent;\n",
              "      border-right-color: var(--fill-color);\n",
              "    }\n",
              "    80% {\n",
              "      border-color: transparent;\n",
              "      border-right-color: var(--fill-color);\n",
              "      border-bottom-color: var(--fill-color);\n",
              "    }\n",
              "    90% {\n",
              "      border-color: transparent;\n",
              "      border-bottom-color: var(--fill-color);\n",
              "    }\n",
              "  }\n",
              "</style>\n",
              "\n",
              "      <script>\n",
              "        async function quickchart(key) {\n",
              "          const quickchartButtonEl =\n",
              "            document.querySelector('#' + key + ' button');\n",
              "          quickchartButtonEl.disabled = true;  // To prevent multiple clicks.\n",
              "          quickchartButtonEl.classList.add('colab-df-spinner');\n",
              "          try {\n",
              "            const charts = await google.colab.kernel.invokeFunction(\n",
              "                'suggestCharts', [key], {});\n",
              "          } catch (error) {\n",
              "            console.error('Error during call to suggestCharts:', error);\n",
              "          }\n",
              "          quickchartButtonEl.classList.remove('colab-df-spinner');\n",
              "          quickchartButtonEl.classList.add('colab-df-quickchart-complete');\n",
              "        }\n",
              "        (() => {\n",
              "          let quickchartButtonEl =\n",
              "            document.querySelector('#df-574fab5c-f568-40fb-9bbf-8acef539bcda button');\n",
              "          quickchartButtonEl.style.display =\n",
              "            google.colab.kernel.accessAllowed ? 'block' : 'none';\n",
              "        })();\n",
              "      </script>\n",
              "    </div>\n",
              "\n",
              "    </div>\n",
              "  </div>\n"
            ],
            "application/vnd.google.colaboratory.intrinsic+json": {
              "type": "dataframe",
              "variable_name": "ar_cities",
              "summary": "{\n  \"name\": \"ar_cities\",\n  \"rows\": 187,\n  \"fields\": [\n    {\n      \"column\": \"DESTINATION\",\n      \"properties\": {\n        \"dtype\": \"category\",\n        \"num_unique_values\": 5,\n        \"samples\": [\n          \"\\u0627\\u0644\\u0631\\u064a\\u0627\\u0636\",\n          \"\\u0623\\u0628\\u0647\\u0627\",\n          \"\\u0627\\u0644\\u0639\\u0644\\u0627\"\n        ],\n        \"semantic_type\": \"\",\n        \"description\": \"\"\n      }\n    },\n    {\n      \"column\": \"NAME\",\n      \"properties\": {\n        \"dtype\": \"string\",\n        \"num_unique_values\": 187,\n        \"samples\": [\n          \"\\u062d\\u062f\\u064a\\u0642\\u0629 \\u0644\\u0627\\u0641\\u0627\\u0646\\u062f\\u0627\",\n          \"\\u0645\\u062a\\u062d\\u0641 \\u0642\\u0635\\u0631 \\u0627\\u0644\\u0645\\u0635\\u0645\\u0643\",\n          \"\\u0645\\u0646\\u062a\\u062c\\u0639 \\u0634\\u0627\\u0637\\u0626 OIA\"\n        ],\n        \"semantic_type\": \"\",\n        \"description\": \"\"\n      }\n    },\n    {\n      \"column\": \"DESCRIPTION\",\n      \"properties\": {\n        \"dtype\": \"string\",\n        \"num_unique_values\": 187,\n        \"samples\": [\n          \"\\u062d\\u062f\\u064a\\u0642\\u0629 \\u0644\\u0627\\u0641\\u0627\\u0646\\u062f\\u0627 \\u0647\\u064a \\u0645\\u0631\\u0643\\u0632 \\u062a\\u062c\\u0627\\u0631\\u064a \\u0643\\u0628\\u064a\\u0631 \\u0648\\u062d\\u062f\\u064a\\u062b \\u0641\\u064a \\u0623\\u0628\\u0647\\u0627 \\u064a\\u0642\\u062f\\u0645 \\u062a\\u062c\\u0631\\u0628\\u0629 \\u062a\\u0633\\u0648\\u0642 \\u0648\\u062a\\u0631\\u0641\\u064a\\u0647 \\u0634\\u0627\\u0645\\u0644\\u0629 \\u064a\\u062d\\u062a\\u0648\\u064a \\u0627\\u0644\\u0645\\u0631\\u0643\\u0632 \\u0639\\u0644\\u0649 \\u0645\\u062a\\u0627\\u062c\\u0631 \\u0644\\u0639\\u0644\\u0627\\u0645\\u0627\\u062a \\u062a\\u062c\\u0627\\u0631\\u064a\\u0629 \\u0645\\u062d\\u0644\\u064a\\u0629 \\u0648\\u0639\\u0627\\u0644\\u0645\\u064a\\u0629 \\u0645\\u0637\\u0627\\u0639\\u0645 \\u062a\\u0642\\u062f\\u0645 \\u0623\\u0637\\u0628\\u0627\\u0642 \\u0645\\u062a\\u0646\\u0648\\u0639\\u0629 \\u062a\\u0646\\u0627\\u0633\\u0628 \\u062c\\u0645\\u064a\\u0639 \\u0627\\u0644\\u0623\\u0630\\u0648\\u0627\\u0642 \\u0648\\u0645\\u0644\\u0627\\u0639\\u0628 \\u0644\\u0644\\u0623\\u0637\\u0641\\u0627\\u0644 \\u0644\\u062a\\u0648\\u0641\\u064a\\u0631 \\u0623\\u0646\\u0634\\u0637\\u0629 \\u0645\\u0633\\u0644\\u064a\\u0629 \\u0644\\u0644\\u0639\\u0627\\u0626\\u0644\\u0627\\u062a \\u062a\\u0635\\u0645\\u064a\\u0645 \\u0627\\u0644\\u0645\\u0631\\u0643\\u0632 \\u0627\\u0644\\u0639\\u0635\\u0631\\u064a \\u0648\\u0627\\u0644\\u0645\\u0633\\u0627\\u062d\\u0627\\u062a \\u0627\\u0644\\u0648\\u0627\\u0633\\u0639\\u0629 \\u064a\\u062c\\u0639\\u0644 \\u0645\\u0646 \\u0632\\u064a\\u0627\\u0631\\u0629 \\u062d\\u062f\\u064a\\u0642\\u0629 \\u0644\\u0627\\u0641\\u0627\\u0646\\u062f\\u0627 \\u062a\\u062c\\u0631\\u0628\\u0629 \\u0645\\u0645\\u062a\\u0639\\u0629 \\u062a\\u062c\\u0645\\u0639 \\u0628\\u064a\\u0646 \\u0627\\u0644\\u062a\\u0633\\u0648\\u0642 \\u0627\\u0644\\u0637\\u0639\\u0627\\u0645 \\u0648\\u0627\\u0644\\u062a\\u0631\\u0641\\u064a\\u0647 \\u0641\\u064a \\u0645\\u0643\\u0627\\u0646 \\u0648\\u0627\\u062d\\u062f\",\n          \"\\u0642\\u0635\\u0631 \\u0627\\u0644\\u0645\\u0635\\u0645\\u0643 \\u0645\\u0628\\u0646\\u0649 \\u062a\\u0627\\u0631\\u064a\\u062e\\u064a \\u0628\\u0627\\u0631\\u0632 \\u0641\\u064a \\u0642\\u0644\\u0628 \\u0627\\u0644\\u0631\\u064a\\u0627\\u0636 \\u062a\\u0645 \\u0628\\u0646\\u0627\\u0624\\u0647 \\u0641\\u064a \\u0639\\u0647\\u062f \\u0627\\u0644\\u0625\\u0645\\u0627\\u0645 \\u0639\\u0628\\u062f\\u0627\\u0644\\u0644\\u0647 \\u0648\\u064a\\u0639\\u062f \\u0631\\u0645\\u0632\\u0627 \\u0644\\u062a\\u0648\\u062d\\u064a\\u062f \\u0627\\u0644\\u0645\\u0645\\u0644\\u0643\\u0629 \\u0627\\u0644\\u0639\\u0631\\u0628\\u064a\\u0629 \\u0627\\u0644\\u0633\\u0639\\u0648\\u062f\\u064a\\u0629 \\u0627\\u0644\\u0642\\u0635\\u0631 \\u0645\\u0628\\u0646\\u064a \\u0645\\u0646 \\u0627\\u0644\\u0637\\u064a\\u0646 \\u0648\\u0627\\u0644\\u062c\\u0635 \\u0648\\u064a\\u062a\\u0645\\u064a\\u0632 \\u0628\\u0623\\u0633\\u0648\\u0627\\u0631 \\u0639\\u0627\\u0644\\u064a\\u0629 \\u0648\\u0623\\u0628\\u0631\\u0627\\u062c \\u062f\\u0641\\u0627\\u0639\\u064a\\u0629 \\u0648\\u0647\\u0648 \\u064a\\u062d\\u062a\\u0641\\u0638 \\u0628\\u0627\\u0644\\u0639\\u062f\\u064a\\u062f \\u0645\\u0646 \\u0627\\u0644\\u0648\\u062b\\u0627\\u0626\\u0642 \\u0627\\u0644\\u062a\\u0627\\u0631\\u064a\\u062e\\u064a\\u0629 \\u0648\\u0627\\u0644\\u0645\\u0642\\u062a\\u0646\\u064a\\u0627\\u062a \\u0627\\u0644\\u062a\\u064a \\u062a\\u062d\\u0643\\u064a \\u0642\\u0635\\u0629 \\u062a\\u0623\\u0633\\u064a\\u0633 \\u0627\\u0644\\u0645\\u0645\\u0644\\u0643\\u0629 \\u064a\\u0632\\u0648\\u0631 \\u0627\\u0644\\u0642\\u0635\\u0631 \\u0627\\u0644\\u0633\\u064a\\u0627\\u062d \\u0648\\u0627\\u0644\\u0637\\u0644\\u0627\\u0628 \\u0648\\u0627\\u0644\\u0628\\u0627\\u062d\\u062b\\u0648\\u0646 \\u0644\\u0644\\u062a\\u0639\\u0631\\u0641 \\u0639\\u0644\\u0649 \\u0627\\u0644\\u062a\\u0627\\u0631\\u064a\\u062e \\u0627\\u0644\\u0633\\u0639\\u0648\\u062f\\u064a \\u0645\\u0646 \\u062e\\u0644\\u0627\\u0644 \\u0627\\u0644\\u062c\\u0648\\u0644\\u0627\\u062a \\u0627\\u0644\\u0645\\u0635\\u062d\\u0648\\u0628\\u0629 \\u0628\\u0645\\u0631\\u0634\\u062f\\u064a\\u0646 \\u0625\\u0636\\u0627\\u0641\\u0629 \\u0625\\u0644\\u0649 \\u0627\\u0644\\u0645\\u0639\\u0627\\u0631\\u0636 \\u0627\\u0644\\u062a\\u0641\\u0627\\u0639\\u0644\\u064a\\u0629 \\u0627\\u0644\\u062a\\u064a \\u062a\\u0639\\u0631\\u0636 \\u0627\\u0644\\u0623\\u062d\\u062f\\u0627\\u062b \\u0627\\u0644\\u062a\\u0627\\u0631\\u064a\\u062e\\u064a\\u0629 \\u0627\\u0644\\u0645\\u0647\\u0645\\u0629 \\u0627\\u0644\\u0642\\u0635\\u0631 \\u064a\\u062c\\u0645\\u0639 \\u0628\\u064a\\u0646 \\u0627\\u0644\\u062c\\u0645\\u0627\\u0644 \\u0627\\u0644\\u0645\\u0639\\u0645\\u0627\\u0631\\u064a \\u0648\\u0627\\u0644\\u0628\\u0639\\u062f \\u0627\\u0644\\u062a\\u0639\\u0644\\u064a\\u0645\\u064a \\u0648\\u0627\\u0644\\u062b\\u0642\\u0627\\u0641\\u064a \\u0645\\u0645\\u0627 \\u064a\\u0648\\u0641\\u0631 \\u062a\\u062c\\u0631\\u0628\\u0629 \\u062a\\u0627\\u0631\\u064a\\u062e\\u064a\\u0629 \\u0634\\u0627\\u0645\\u0644\\u0629 \\u0644\\u0644\\u0632\\u0648\\u0627\\u0631\",\n          \"\\u0645\\u0646\\u062a\\u062c\\u0639 \\u0634\\u0627\\u0637\\u0626 OIA \\u064a\\u0642\\u062f\\u0645 \\u0645\\u0644\\u0627\\u0630\\u0627 \\u0647\\u0627\\u062f\\u0626\\u0627 \\u0644\\u0644\\u0639\\u0627\\u0626\\u0644\\u0627\\u062a \\u0648\\u0627\\u0644\\u0632\\u0648\\u0627\\u0631 \\u0627\\u0644\\u0628\\u0627\\u062d\\u062b\\u064a\\u0646 \\u0639\\u0646 \\u0627\\u0644\\u0627\\u0633\\u062a\\u0631\\u062e\\u0627\\u0621 \\u0639\\u0644\\u0649 \\u0634\\u0648\\u0627\\u0637\\u0626 \\u0646\\u0642\\u064a\\u0629 \\u064a\\u0636\\u0645 \\u0627\\u0644\\u0645\\u0646\\u062a\\u062c\\u0639 \\u063a\\u0631\\u0641\\u0627 \\u0648\\u0623\\u062c\\u0646\\u062d\\u0629 \\u0641\\u0627\\u062e\\u0631\\u0629 \\u0645\\u0637\\u0644\\u0629 \\u0639\\u0644\\u0649 \\u0627\\u0644\\u0628\\u062d\\u0631 \\u0645\\u0646\\u0627\\u0637\\u0642 \\u062c\\u0644\\u0648\\u0633 \\u062e\\u0627\\u0631\\u062c\\u064a\\u0629 \\u0645\\u0633\\u0627\\u0628\\u062d \\u0648\\u0623\\u0646\\u0634\\u0637\\u0629 \\u062a\\u0631\\u0641\\u064a\\u0647\\u064a\\u0629 \\u0645\\u0627\\u0626\\u064a\\u0629 \\u0645\\u062a\\u0646\\u0648\\u0639\\u0629 \\u0645\\u062b\\u0644 \\u0627\\u0644\\u062c\\u062a \\u0633\\u0643\\u064a \\u0648\\u0631\\u0643\\u0648\\u0628 \\u0627\\u0644\\u0623\\u0645\\u0648\\u0627\\u062c \\u064a\\u0648\\u0641\\u0631 \\u0623\\u064a\\u0636\\u0627 \\u0645\\u0631\\u0627\\u0641\\u0642 \\u0644\\u0644\\u0631\\u064a\\u0627\\u0636\\u0629 \\u0648\\u0627\\u0644\\u0644\\u064a\\u0627\\u0642\\u0629 \\u0627\\u0644\\u0628\\u062f\\u0646\\u064a\\u0629 \\u0648\\u0645\\u0637\\u0627\\u0639\\u0645 \\u062a\\u0642\\u062f\\u0645 \\u0645\\u0623\\u0643\\u0648\\u0644\\u0627\\u062a \\u0645\\u062d\\u0644\\u064a\\u0629 \\u0648\\u0639\\u0627\\u0644\\u0645\\u064a\\u0629 \\u0645\\u0645\\u0627 \\u064a\\u062c\\u0639\\u0644 \\u0627\\u0644\\u062a\\u062c\\u0631\\u0628\\u0629 \\u0645\\u062a\\u0643\\u0627\\u0645\\u0644\\u0629 \\u0628\\u064a\\u0646 \\u0627\\u0644\\u0631\\u0627\\u062d\\u0629 \\u0627\\u0644\\u0645\\u063a\\u0627\\u0645\\u0631\\u0629 \\u0648\\u0627\\u0644\\u062a\\u062c\\u0631\\u0628\\u0629 \\u0627\\u0644\\u0634\\u0627\\u0637\\u0626\\u064a\\u0629 \\u0627\\u0644\\u0641\\u0627\\u062e\\u0631\\u0629 \\u0641\\u064a \\u0628\\u064a\\u0626\\u0629 \\u0645\\u0646\\u0638\\u0645\\u0629 \\u0648\\u0645\\u0645\\u062a\\u0639\\u0629\"\n        ],\n        \"semantic_type\": \"\",\n        \"description\": \"\"\n      }\n    },\n    {\n      \"column\": \"SM/REFERENCE LINKS\",\n      \"properties\": {\n        \"dtype\": \"string\",\n        \"num_unique_values\": 168,\n        \"samples\": [\n          \"https://www.tiktok.com/@ra__0200/video/7243088213114391809?lang=ar\",\n          \"https://trio-blvd.com/\",\n          \"https://www.youtube.com/watch?v=VNCsrdKqzZA\"\n        ],\n        \"semantic_type\": \"\",\n        \"description\": \"\"\n      }\n    },\n    {\n      \"column\": \"LOCATION\",\n      \"properties\": {\n        \"dtype\": \"string\",\n        \"num_unique_values\": 180,\n        \"samples\": [\n          \"https://maps.app.goo.gl/ofjo3yqEpJiKVhcP6\",\n          \"https://maps.app.goo.gl/DzmxQEbjxCeX21t4A\",\n          \"https://mytrip.sa/tour/green-mountain/\"\n        ],\n        \"semantic_type\": \"\",\n        \"description\": \"\"\n      }\n    },\n    {\n      \"column\": \"DESCRIPTION_LENGTH\",\n      \"properties\": {\n        \"dtype\": \"number\",\n        \"std\": 175,\n        \"min\": 119,\n        \"max\": 1399,\n        \"num_unique_values\": 151,\n        \"samples\": [\n          441,\n          470,\n          413\n        ],\n        \"semantic_type\": \"\",\n        \"description\": \"\"\n      }\n    }\n  ]\n}"
            }
          },
          "metadata": {},
          "execution_count": 25
        }
      ]
    },
    {
      "cell_type": "code",
      "source": [
        "en_cities.head()"
      ],
      "metadata": {
        "colab": {
          "base_uri": "https://localhost:8080/",
          "height": 397
        },
        "id": "rmlsgEVvt0DQ",
        "outputId": "6aac531f-d117-44ec-eda7-9cf0be2c099b"
      },
      "execution_count": null,
      "outputs": [
        {
          "output_type": "execute_result",
          "data": {
            "text/plain": [
              "  DESTINATION                    NAME  \\\n",
              "0        abha          al aaqaba view   \n",
              "1        abha       al basta district   \n",
              "2        abha        al dabab walkway   \n",
              "3        abha         al ghayl valley   \n",
              "4        abha  al muftaha art village   \n",
              "\n",
              "                                         DESCRIPTION  \\\n",
              "0  Perched high above the city, Al Aaqaba View of...   \n",
              "1  The historic heart of Abha, Al Basta District ...   \n",
              "2  Known as the Fog Walkway, this elevated path o...   \n",
              "3  A hidden gem near the city, Al Ghayl Valley is...   \n",
              "4  A cultural landmark in Abha, Al Muftaha Art Vi...   \n",
              "\n",
              "                                  SM/REFERENCE LINKS  \\\n",
              "0                           https://g.co/kgs/htz7osq   \n",
              "1      https://discoveraseer.com/en/places/hy-albsth   \n",
              "2  https://discoveraseer.com/en/places/mmsha-aldabab   \n",
              "3    https://discoveraseer.com/en/places/oady-alghyl   \n",
              "4  https://www.visitsaudi.com/en/aseer/attraction...   \n",
              "\n",
              "                                     LOCATION  DESCRIPTION_LENGTH  \n",
              "0  https://www.traveldiv.com/tourism-in-abha/                 390  \n",
              "1   https://maps.app.goo.gl/kppkmnmefytzznvz6                 526  \n",
              "2   https://maps.app.goo.gl/ugdpjbbovqdpdd6w6                 454  \n",
              "3   https://maps.app.goo.gl/ecdwtntfgr93zqwc6                 431  \n",
              "4   https://maps.app.goo.gl/pfvnoecorpcgtly78                 593  "
            ],
            "text/html": [
              "\n",
              "  <div id=\"df-a6e67327-b3c8-452e-a624-da86e40695cf\" class=\"colab-df-container\">\n",
              "    <div>\n",
              "<style scoped>\n",
              "    .dataframe tbody tr th:only-of-type {\n",
              "        vertical-align: middle;\n",
              "    }\n",
              "\n",
              "    .dataframe tbody tr th {\n",
              "        vertical-align: top;\n",
              "    }\n",
              "\n",
              "    .dataframe thead th {\n",
              "        text-align: right;\n",
              "    }\n",
              "</style>\n",
              "<table border=\"1\" class=\"dataframe\">\n",
              "  <thead>\n",
              "    <tr style=\"text-align: right;\">\n",
              "      <th></th>\n",
              "      <th>DESTINATION</th>\n",
              "      <th>NAME</th>\n",
              "      <th>DESCRIPTION</th>\n",
              "      <th>SM/REFERENCE LINKS</th>\n",
              "      <th>LOCATION</th>\n",
              "      <th>DESCRIPTION_LENGTH</th>\n",
              "    </tr>\n",
              "  </thead>\n",
              "  <tbody>\n",
              "    <tr>\n",
              "      <th>0</th>\n",
              "      <td>abha</td>\n",
              "      <td>al aaqaba view</td>\n",
              "      <td>Perched high above the city, Al Aaqaba View of...</td>\n",
              "      <td>https://g.co/kgs/htz7osq</td>\n",
              "      <td>https://www.traveldiv.com/tourism-in-abha/</td>\n",
              "      <td>390</td>\n",
              "    </tr>\n",
              "    <tr>\n",
              "      <th>1</th>\n",
              "      <td>abha</td>\n",
              "      <td>al basta district</td>\n",
              "      <td>The historic heart of Abha, Al Basta District ...</td>\n",
              "      <td>https://discoveraseer.com/en/places/hy-albsth</td>\n",
              "      <td>https://maps.app.goo.gl/kppkmnmefytzznvz6</td>\n",
              "      <td>526</td>\n",
              "    </tr>\n",
              "    <tr>\n",
              "      <th>2</th>\n",
              "      <td>abha</td>\n",
              "      <td>al dabab walkway</td>\n",
              "      <td>Known as the Fog Walkway, this elevated path o...</td>\n",
              "      <td>https://discoveraseer.com/en/places/mmsha-aldabab</td>\n",
              "      <td>https://maps.app.goo.gl/ugdpjbbovqdpdd6w6</td>\n",
              "      <td>454</td>\n",
              "    </tr>\n",
              "    <tr>\n",
              "      <th>3</th>\n",
              "      <td>abha</td>\n",
              "      <td>al ghayl valley</td>\n",
              "      <td>A hidden gem near the city, Al Ghayl Valley is...</td>\n",
              "      <td>https://discoveraseer.com/en/places/oady-alghyl</td>\n",
              "      <td>https://maps.app.goo.gl/ecdwtntfgr93zqwc6</td>\n",
              "      <td>431</td>\n",
              "    </tr>\n",
              "    <tr>\n",
              "      <th>4</th>\n",
              "      <td>abha</td>\n",
              "      <td>al muftaha art village</td>\n",
              "      <td>A cultural landmark in Abha, Al Muftaha Art Vi...</td>\n",
              "      <td>https://www.visitsaudi.com/en/aseer/attraction...</td>\n",
              "      <td>https://maps.app.goo.gl/pfvnoecorpcgtly78</td>\n",
              "      <td>593</td>\n",
              "    </tr>\n",
              "  </tbody>\n",
              "</table>\n",
              "</div>\n",
              "    <div class=\"colab-df-buttons\">\n",
              "\n",
              "  <div class=\"colab-df-container\">\n",
              "    <button class=\"colab-df-convert\" onclick=\"convertToInteractive('df-a6e67327-b3c8-452e-a624-da86e40695cf')\"\n",
              "            title=\"Convert this dataframe to an interactive table.\"\n",
              "            style=\"display:none;\">\n",
              "\n",
              "  <svg xmlns=\"http://www.w3.org/2000/svg\" height=\"24px\" viewBox=\"0 -960 960 960\">\n",
              "    <path d=\"M120-120v-720h720v720H120Zm60-500h600v-160H180v160Zm220 220h160v-160H400v160Zm0 220h160v-160H400v160ZM180-400h160v-160H180v160Zm440 0h160v-160H620v160ZM180-180h160v-160H180v160Zm440 0h160v-160H620v160Z\"/>\n",
              "  </svg>\n",
              "    </button>\n",
              "\n",
              "  <style>\n",
              "    .colab-df-container {\n",
              "      display:flex;\n",
              "      gap: 12px;\n",
              "    }\n",
              "\n",
              "    .colab-df-convert {\n",
              "      background-color: #E8F0FE;\n",
              "      border: none;\n",
              "      border-radius: 50%;\n",
              "      cursor: pointer;\n",
              "      display: none;\n",
              "      fill: #1967D2;\n",
              "      height: 32px;\n",
              "      padding: 0 0 0 0;\n",
              "      width: 32px;\n",
              "    }\n",
              "\n",
              "    .colab-df-convert:hover {\n",
              "      background-color: #E2EBFA;\n",
              "      box-shadow: 0px 1px 2px rgba(60, 64, 67, 0.3), 0px 1px 3px 1px rgba(60, 64, 67, 0.15);\n",
              "      fill: #174EA6;\n",
              "    }\n",
              "\n",
              "    .colab-df-buttons div {\n",
              "      margin-bottom: 4px;\n",
              "    }\n",
              "\n",
              "    [theme=dark] .colab-df-convert {\n",
              "      background-color: #3B4455;\n",
              "      fill: #D2E3FC;\n",
              "    }\n",
              "\n",
              "    [theme=dark] .colab-df-convert:hover {\n",
              "      background-color: #434B5C;\n",
              "      box-shadow: 0px 1px 3px 1px rgba(0, 0, 0, 0.15);\n",
              "      filter: drop-shadow(0px 1px 2px rgba(0, 0, 0, 0.3));\n",
              "      fill: #FFFFFF;\n",
              "    }\n",
              "  </style>\n",
              "\n",
              "    <script>\n",
              "      const buttonEl =\n",
              "        document.querySelector('#df-a6e67327-b3c8-452e-a624-da86e40695cf button.colab-df-convert');\n",
              "      buttonEl.style.display =\n",
              "        google.colab.kernel.accessAllowed ? 'block' : 'none';\n",
              "\n",
              "      async function convertToInteractive(key) {\n",
              "        const element = document.querySelector('#df-a6e67327-b3c8-452e-a624-da86e40695cf');\n",
              "        const dataTable =\n",
              "          await google.colab.kernel.invokeFunction('convertToInteractive',\n",
              "                                                    [key], {});\n",
              "        if (!dataTable) return;\n",
              "\n",
              "        const docLinkHtml = 'Like what you see? Visit the ' +\n",
              "          '<a target=\"_blank\" href=https://colab.research.google.com/notebooks/data_table.ipynb>data table notebook</a>'\n",
              "          + ' to learn more about interactive tables.';\n",
              "        element.innerHTML = '';\n",
              "        dataTable['output_type'] = 'display_data';\n",
              "        await google.colab.output.renderOutput(dataTable, element);\n",
              "        const docLink = document.createElement('div');\n",
              "        docLink.innerHTML = docLinkHtml;\n",
              "        element.appendChild(docLink);\n",
              "      }\n",
              "    </script>\n",
              "  </div>\n",
              "\n",
              "\n",
              "    <div id=\"df-47b44469-e009-4685-bd43-fd50c544c97f\">\n",
              "      <button class=\"colab-df-quickchart\" onclick=\"quickchart('df-47b44469-e009-4685-bd43-fd50c544c97f')\"\n",
              "                title=\"Suggest charts\"\n",
              "                style=\"display:none;\">\n",
              "\n",
              "<svg xmlns=\"http://www.w3.org/2000/svg\" height=\"24px\"viewBox=\"0 0 24 24\"\n",
              "     width=\"24px\">\n",
              "    <g>\n",
              "        <path d=\"M19 3H5c-1.1 0-2 .9-2 2v14c0 1.1.9 2 2 2h14c1.1 0 2-.9 2-2V5c0-1.1-.9-2-2-2zM9 17H7v-7h2v7zm4 0h-2V7h2v10zm4 0h-2v-4h2v4z\"/>\n",
              "    </g>\n",
              "</svg>\n",
              "      </button>\n",
              "\n",
              "<style>\n",
              "  .colab-df-quickchart {\n",
              "      --bg-color: #E8F0FE;\n",
              "      --fill-color: #1967D2;\n",
              "      --hover-bg-color: #E2EBFA;\n",
              "      --hover-fill-color: #174EA6;\n",
              "      --disabled-fill-color: #AAA;\n",
              "      --disabled-bg-color: #DDD;\n",
              "  }\n",
              "\n",
              "  [theme=dark] .colab-df-quickchart {\n",
              "      --bg-color: #3B4455;\n",
              "      --fill-color: #D2E3FC;\n",
              "      --hover-bg-color: #434B5C;\n",
              "      --hover-fill-color: #FFFFFF;\n",
              "      --disabled-bg-color: #3B4455;\n",
              "      --disabled-fill-color: #666;\n",
              "  }\n",
              "\n",
              "  .colab-df-quickchart {\n",
              "    background-color: var(--bg-color);\n",
              "    border: none;\n",
              "    border-radius: 50%;\n",
              "    cursor: pointer;\n",
              "    display: none;\n",
              "    fill: var(--fill-color);\n",
              "    height: 32px;\n",
              "    padding: 0;\n",
              "    width: 32px;\n",
              "  }\n",
              "\n",
              "  .colab-df-quickchart:hover {\n",
              "    background-color: var(--hover-bg-color);\n",
              "    box-shadow: 0 1px 2px rgba(60, 64, 67, 0.3), 0 1px 3px 1px rgba(60, 64, 67, 0.15);\n",
              "    fill: var(--button-hover-fill-color);\n",
              "  }\n",
              "\n",
              "  .colab-df-quickchart-complete:disabled,\n",
              "  .colab-df-quickchart-complete:disabled:hover {\n",
              "    background-color: var(--disabled-bg-color);\n",
              "    fill: var(--disabled-fill-color);\n",
              "    box-shadow: none;\n",
              "  }\n",
              "\n",
              "  .colab-df-spinner {\n",
              "    border: 2px solid var(--fill-color);\n",
              "    border-color: transparent;\n",
              "    border-bottom-color: var(--fill-color);\n",
              "    animation:\n",
              "      spin 1s steps(1) infinite;\n",
              "  }\n",
              "\n",
              "  @keyframes spin {\n",
              "    0% {\n",
              "      border-color: transparent;\n",
              "      border-bottom-color: var(--fill-color);\n",
              "      border-left-color: var(--fill-color);\n",
              "    }\n",
              "    20% {\n",
              "      border-color: transparent;\n",
              "      border-left-color: var(--fill-color);\n",
              "      border-top-color: var(--fill-color);\n",
              "    }\n",
              "    30% {\n",
              "      border-color: transparent;\n",
              "      border-left-color: var(--fill-color);\n",
              "      border-top-color: var(--fill-color);\n",
              "      border-right-color: var(--fill-color);\n",
              "    }\n",
              "    40% {\n",
              "      border-color: transparent;\n",
              "      border-right-color: var(--fill-color);\n",
              "      border-top-color: var(--fill-color);\n",
              "    }\n",
              "    60% {\n",
              "      border-color: transparent;\n",
              "      border-right-color: var(--fill-color);\n",
              "    }\n",
              "    80% {\n",
              "      border-color: transparent;\n",
              "      border-right-color: var(--fill-color);\n",
              "      border-bottom-color: var(--fill-color);\n",
              "    }\n",
              "    90% {\n",
              "      border-color: transparent;\n",
              "      border-bottom-color: var(--fill-color);\n",
              "    }\n",
              "  }\n",
              "</style>\n",
              "\n",
              "      <script>\n",
              "        async function quickchart(key) {\n",
              "          const quickchartButtonEl =\n",
              "            document.querySelector('#' + key + ' button');\n",
              "          quickchartButtonEl.disabled = true;  // To prevent multiple clicks.\n",
              "          quickchartButtonEl.classList.add('colab-df-spinner');\n",
              "          try {\n",
              "            const charts = await google.colab.kernel.invokeFunction(\n",
              "                'suggestCharts', [key], {});\n",
              "          } catch (error) {\n",
              "            console.error('Error during call to suggestCharts:', error);\n",
              "          }\n",
              "          quickchartButtonEl.classList.remove('colab-df-spinner');\n",
              "          quickchartButtonEl.classList.add('colab-df-quickchart-complete');\n",
              "        }\n",
              "        (() => {\n",
              "          let quickchartButtonEl =\n",
              "            document.querySelector('#df-47b44469-e009-4685-bd43-fd50c544c97f button');\n",
              "          quickchartButtonEl.style.display =\n",
              "            google.colab.kernel.accessAllowed ? 'block' : 'none';\n",
              "        })();\n",
              "      </script>\n",
              "    </div>\n",
              "\n",
              "    </div>\n",
              "  </div>\n"
            ],
            "application/vnd.google.colaboratory.intrinsic+json": {
              "type": "dataframe",
              "variable_name": "en_cities",
              "summary": "{\n  \"name\": \"en_cities\",\n  \"rows\": 189,\n  \"fields\": [\n    {\n      \"column\": \"DESTINATION\",\n      \"properties\": {\n        \"dtype\": \"category\",\n        \"num_unique_values\": 5,\n        \"samples\": [\n          \"albaha\",\n          \"alula\",\n          \"ryiadh\"\n        ],\n        \"semantic_type\": \"\",\n        \"description\": \"\"\n      }\n    },\n    {\n      \"column\": \"NAME\",\n      \"properties\": {\n        \"dtype\": \"string\",\n        \"num_unique_values\": 189,\n        \"samples\": [\n          \"al jadidah arts district\",\n          \"kona marine sport club\",\n          \"rijal almaa historic village\"\n        ],\n        \"semantic_type\": \"\",\n        \"description\": \"\"\n      }\n    },\n    {\n      \"column\": \"DESCRIPTION\",\n      \"properties\": {\n        \"dtype\": \"string\",\n        \"num_unique_values\": 189,\n        \"samples\": [\n          \"The Al Jadidah Arts District is a bustling hub where art, culture, and gastronomy merge seamlessly. Every corner of this pedestrianfriendly area is alive with creativity, from murals and sculptures to live performances and music spilling over balconies. The air carries the aroma of freshly baked bread and local delicacies, inviting visitors to taste and explore. Cafes, restaurants, and food trucks complement the artistic environment, offering a feast for the senses. Walking through Al Jadidah, visitors feel immersed in AlUlas vibrant cultural heartbeat, where every street tells a story, every corner inspires, and the fusion of heritage and contemporary art creates a truly unforgettable atmosphere.\",\n          \"Kona Marine Sport Club is a firstofitskind nonmotor water sports beach club in Jeddah, dedicated to making the Red Sea accessible for sports, recreation, and community engagement. Guests can participate in paddleboarding, kayaking, sailing, and other nonmotorized water sports in a safe and guided environment. The club focuses on fun, fitness, and sustainability, promoting ecofriendly water sports practices. Kona also offers social and community events, making it a hub for enthusiasts to connect, learn, and enjoy the Red Sea in a dynamic and responsible way.\",\n          \"Step back in time at Rijal Almaa, a breathtaking 700yearold village nestled in the Aseer mountains. Known for its striking basalt stone architecture and multistory fortress houses, the village reflects centuries of regional history and artistry. Wander through narrow alleys adorned with vibrant AlQatt AlAseeri patterns, visit the museum showcasing ancient artifacts, and experience the warm hospitality of the local community. Recognized for its cultural significance, Rijal Almaa stands as one of Saudi Arabias most picturesque and historically rich heritage sites.\"\n        ],\n        \"semantic_type\": \"\",\n        \"description\": \"\"\n      }\n    },\n    {\n      \"column\": \"SM/REFERENCE LINKS\",\n      \"properties\": {\n        \"dtype\": \"string\",\n        \"num_unique_values\": 167,\n        \"samples\": [\n          \"https://www.visitalbalad.com/en/explore/1654\",\n          \"https://www.instagram.com/lapaz_sa/?hl=en\",\n          \"https://www.kafd.sa/en/live/landmarks\"\n        ],\n        \"semantic_type\": \"\",\n        \"description\": \"\"\n      }\n    },\n    {\n      \"column\": \"LOCATION\",\n      \"properties\": {\n        \"dtype\": \"string\",\n        \"num_unique_values\": 182,\n        \"samples\": [\n          \"https://maps.app.goo.gl/tk2o3aod5sco1vpu6\",\n          \"https://maps.app.goo.gl/nee1utalhryc88a77\",\n          \"https://maps.app.goo.gl/pjekfszfpkdihamd7\"\n        ],\n        \"semantic_type\": \"\",\n        \"description\": \"\"\n      }\n    },\n    {\n      \"column\": \"DESCRIPTION_LENGTH\",\n      \"properties\": {\n        \"dtype\": \"number\",\n        \"std\": 191,\n        \"min\": 234,\n        \"max\": 1969,\n        \"num_unique_values\": 168,\n        \"samples\": [\n          678,\n          456,\n          535\n        ],\n        \"semantic_type\": \"\",\n        \"description\": \"\"\n      }\n    }\n  ]\n}"
            }
          },
          "metadata": {},
          "execution_count": 26
        }
      ]
    },
    {
      "cell_type": "code",
      "source": [
        "# Check final shapes\n",
        "print(\"Final Arabic Cities Shape:\", ar_cities.shape)\n",
        "print(\"Final English Cities Shape:\", en_cities.shape)"
      ],
      "metadata": {
        "colab": {
          "base_uri": "https://localhost:8080/"
        },
        "id": "LVWjlhjQt_jL",
        "outputId": "861e1f78-d2e9-47cd-dd91-9b384d2b89f0"
      },
      "execution_count": null,
      "outputs": [
        {
          "output_type": "stream",
          "name": "stdout",
          "text": [
            "Final Arabic Cities Shape: (187, 6)\n",
            "Final English Cities Shape: (189, 6)\n"
          ]
        }
      ]
    },
    {
      "cell_type": "markdown",
      "source": [
        "##Summary statistics"
      ],
      "metadata": {
        "id": "6bRzDX5WwDwe"
      }
    },
    {
      "cell_type": "code",
      "source": [
        "# Summary statistics\n",
        "print(\"\\nArabic Cities Description Length Stats:\")\n",
        "print(ar_cities['DESCRIPTION_LENGTH'].describe())\n",
        "\n",
        "print(\"\\nEnglish Cities Description Length Stats:\")\n",
        "print(en_cities['DESCRIPTION_LENGTH'].describe())"
      ],
      "metadata": {
        "colab": {
          "base_uri": "https://localhost:8080/"
        },
        "id": "Wr2_Q0iVuGvn",
        "outputId": "6aecf9e1-3d69-46ea-a938-5d251b60922b"
      },
      "execution_count": null,
      "outputs": [
        {
          "output_type": "stream",
          "name": "stdout",
          "text": [
            "\n",
            "Arabic Cities Description Length Stats:\n",
            "count     187.000000\n",
            "mean      401.454545\n",
            "std       175.235270\n",
            "min       119.000000\n",
            "25%       286.000000\n",
            "50%       400.000000\n",
            "75%       468.500000\n",
            "max      1399.000000\n",
            "Name: DESCRIPTION_LENGTH, dtype: float64\n",
            "\n",
            "English Cities Description Length Stats:\n",
            "count     189.000000\n",
            "mean      533.253968\n",
            "std       191.928924\n",
            "min       234.000000\n",
            "25%       427.000000\n",
            "50%       499.000000\n",
            "75%       602.000000\n",
            "max      1969.000000\n",
            "Name: DESCRIPTION_LENGTH, dtype: float64\n"
          ]
        }
      ]
    },
    {
      "cell_type": "code",
      "source": [
        "# Check for missing values\n",
        "print(\"Arabic Cities Missing Values:\\n\", ar_cities.isnull().sum())\n",
        "print(\"\\nEnglish Cities Missing Values:\\n\", en_cities.isnull().sum())\n",
        "\n",
        "# Check for duplicates based on all columns\n",
        "print(\"\\nArabic Cities Duplicate Rows:\", ar_cities.duplicated().sum())\n",
        "print(\"English Cities Duplicate Rows:\", en_cities.duplicated().sum())"
      ],
      "metadata": {
        "colab": {
          "base_uri": "https://localhost:8080/"
        },
        "id": "9Uz-aZwbuVSD",
        "outputId": "dcc922aa-d787-4185-fc45-a40c849c4375"
      },
      "execution_count": null,
      "outputs": [
        {
          "output_type": "stream",
          "name": "stdout",
          "text": [
            "Arabic Cities Missing Values:\n",
            " DESTINATION           0\n",
            "NAME                  0\n",
            "DESCRIPTION           0\n",
            "SM/REFERENCE LINKS    0\n",
            "LOCATION              0\n",
            "DESCRIPTION_LENGTH    0\n",
            "dtype: int64\n",
            "\n",
            "English Cities Missing Values:\n",
            " DESTINATION           0\n",
            "NAME                  0\n",
            "DESCRIPTION           0\n",
            "SM/REFERENCE LINKS    0\n",
            "LOCATION              0\n",
            "DESCRIPTION_LENGTH    0\n",
            "dtype: int64\n",
            "\n",
            "Arabic Cities Duplicate Rows: 0\n",
            "English Cities Duplicate Rows: 0\n"
          ]
        }
      ]
    },
    {
      "cell_type": "code",
      "source": [
        "# check duplicates based on NAME and DESTINATION only\n",
        "print(\"\\nArabic Cities Duplicates by NAME & DESTINATION:\", ar_cities.duplicated(subset=['NAME','DESTINATION']).sum())\n",
        "print(\"English Cities Duplicates by NAME & DESTINATION:\", en_cities.duplicated(subset=['NAME','DESTINATION']).sum())"
      ],
      "metadata": {
        "colab": {
          "base_uri": "https://localhost:8080/"
        },
        "id": "DtemcEkJuZF0",
        "outputId": "1d719dbf-ac95-47c8-e1fd-53db4ebc769e"
      },
      "execution_count": null,
      "outputs": [
        {
          "output_type": "stream",
          "name": "stdout",
          "text": [
            "\n",
            "Arabic Cities Duplicates by NAME & DESTINATION: 0\n",
            "English Cities Duplicates by NAME & DESTINATION: 0\n"
          ]
        }
      ]
    },
    {
      "cell_type": "markdown",
      "source": [
        "##Saving CSV files"
      ],
      "metadata": {
        "id": "QrhXnZ4awN9W"
      }
    },
    {
      "cell_type": "code",
      "source": [
        "# Save cleaned datasets as CSV\n",
        "ar_cities.to_csv(\"Arabic_Cities_Cleaned.csv\", index=False, encoding='utf-8-sig')# We use utf-8-sig to avoid encoding issues, especially with Arabic text\n",
        "en_cities.to_csv(\"English_Cities_Cleaned.csv\", index=False, encoding='utf-8-sig')\n",
        "\n",
        "print(\"Cleaned datasets saved as CSV successfully!\")"
      ],
      "metadata": {
        "colab": {
          "base_uri": "https://localhost:8080/"
        },
        "id": "X_i6KYlVu0x4",
        "outputId": "1012a012-ab8a-4973-d4ba-e68759c31af7"
      },
      "execution_count": null,
      "outputs": [
        {
          "output_type": "stream",
          "name": "stdout",
          "text": [
            "Cleaned datasets saved as CSV successfully!\n"
          ]
        }
      ]
    },
    {
      "cell_type": "markdown",
      "source": [
        "#Projects"
      ],
      "metadata": {
        "id": "l231W2c-wzJQ"
      }
    },
    {
      "cell_type": "markdown",
      "source": [
        "##Feature Description\n",
        "**title**: Name of the project.\n",
        "\n",
        "**content**: Detailed description of the project, its scope, and objectives.\n",
        "\n",
        "**content_length**: Number of characters in the content column."
      ],
      "metadata": {
        "id": "EGtB8Yp3-g3W"
      }
    },
    {
      "cell_type": "markdown",
      "source": [
        "##Load Projects Dataset"
      ],
      "metadata": {
        "id": "8DlXYh4oxyO6"
      }
    },
    {
      "cell_type": "code",
      "source": [
        "#Load the Dataset\n",
        "en_projects = pd.read_csv(\"/content/projects_dataset_eng.csv\", encoding='latin1')\n",
        "ar_projects = pd.read_csv(\"/content/projects_dataset_ara.csv\", encoding='latin1')\n",
        "\n",
        "# Inspect first rows\n",
        "print(\"English Projects Sample:\")\n",
        "print(en_projects.head())\n",
        "\n",
        "print(\"\\nArabic Projects Sample:\")\n",
        "print(ar_projects.head())"
      ],
      "metadata": {
        "colab": {
          "base_uri": "https://localhost:8080/"
        },
        "id": "TuooxNxRw13d",
        "outputId": "e6adca03-dc7c-4656-a658-0a1175752680"
      },
      "execution_count": null,
      "outputs": [
        {
          "output_type": "stream",
          "name": "stdout",
          "text": [
            "English Projects Sample:\n",
            "                                title  \\\n",
            "0                             Qiddiya   \n",
            "1                               ROSHN   \n",
            "2                          Riyadh Art   \n",
            "3                  Saudi Sports Track   \n",
            "4  Mohammed bin Salman Nonprofit City   \n",
            "\n",
            "                                             content  \n",
            "0  Qiddiya will be the future capital of entertai...  \n",
            "1  ROSHN Group develops large-scale projects acro...  \n",
            "2  Riyadh Art offers a vibrant world that nurture...  \n",
            "3  The Sports Boulevard inspires residents and vi...  \n",
            "4  Prince Mohammed bin Salman Nonprofit City  M...  \n",
            "\n",
            "Arabic Projects Sample:\n",
            "                             title  \\\n",
            "0                           ÇáÞÏíÉ   \n",
            "1                             ÑæÔä   \n",
            "2                       ÇáÑíÇÖ ÂÑÊ   \n",
            "3                   ÇáãÓÇÑ ÇáÑíÇÖí   \n",
            "4  ãÏíäÉ ãÍãÏ Èä ÓáãÇä ÛíÑ ÇáÑÈÍíÉ   \n",
            "\n",
            "                                             content  Unnamed: 2  \n",
            "0  ÓÊßæä ÇáÞÏíÉ ÚÇÕãÉ ÇáãÓÊÞÈá ááÊÑÝíå æÇáÑíÇÖÉ æ...         NaN  \n",
            "1  ÊõØæÑ \"ãÌãæÚÉ ÑæÔä\" ãÔÇÑíÚ ßÈÑì Úáì ãÓÊæì Çáãã...         NaN  \n",
            "2  ÊÊíÍ áß \"ÇáÑíÇÖ ÂÑÊ \" ÚÇáãÇð äÇÈÖÇð ÈÇáÍíÇÉ íÛ...         NaN  \n",
            "3  íõáåã ÇáãÓÇÑ ÇáÑíÇÖí ÓßÇä æÒÇÆÑí ãÏíäÉ ÇáÑíÇÖ ...         NaN  \n",
            "4  ãÏíäÉ ãÍãÏ Èä ÓáãÇä ÛíÑ ÇáÑÈÍíÉ \"ãÏíäÉ ãÓß åí...         NaN  \n"
          ]
        }
      ]
    },
    {
      "cell_type": "code",
      "source": [
        "# Read Arabic Projects with correct Arabic encoding\n",
        "ar_projects = pd.read_csv(\"/content/projects_dataset_ara.csv\", encoding='cp1256')\n",
        "\n",
        "# Inspect first rows again\n",
        "print(\"Arabic Projects Sample (corrected encoding):\")\n",
        "print(ar_projects.head())"
      ],
      "metadata": {
        "colab": {
          "base_uri": "https://localhost:8080/"
        },
        "id": "tsXXOngOxfM9",
        "outputId": "96d50319-5a20-45f6-ba98-e0f798e14998"
      },
      "execution_count": null,
      "outputs": [
        {
          "output_type": "stream",
          "name": "stdout",
          "text": [
            "Arabic Projects Sample (corrected encoding):\n",
            "                             title  \\\n",
            "0                           القدية   \n",
            "1                             روشن   \n",
            "2                       الرياض آرت   \n",
            "3                   المسار الرياضي   \n",
            "4  مدينة محمد بن سلمان غير الربحية   \n",
            "\n",
            "                                             content  Unnamed: 2  \n",
            "0  ستكون القدية عاصمة المستقبل للترفيه والرياضة و...         NaN  \n",
            "1  تُطور \"مجموعة روشن\" مشاريع كبرى على مستوى المم...         NaN  \n",
            "2  تتيح لك \"الرياض آرت \" عالماً نابضاً بالحياة يغ...         NaN  \n",
            "3  يُلهم المسار الرياضي سكان وزائري مدينة الرياض ...         NaN  \n",
            "4  مدينة محمد بن سلمان غير الربحية \"مدينة مسك “هي...         NaN  \n"
          ]
        }
      ]
    },
    {
      "cell_type": "code",
      "source": [
        "# Drop empty/unnecessary column in Arabic Projects\n",
        "ar_projects = ar_projects.drop(columns=['Unnamed: 2'])\n",
        "\n",
        "# Confirm changes\n",
        "print(\"Arabic Projects Columns after dropping unnecessary column:\")\n",
        "print(ar_projects.columns)"
      ],
      "metadata": {
        "colab": {
          "base_uri": "https://localhost:8080/"
        },
        "id": "vuAFxLGGxsFs",
        "outputId": "44ffaac1-0152-4c55-c205-5eeaedf09c62"
      },
      "execution_count": null,
      "outputs": [
        {
          "output_type": "stream",
          "name": "stdout",
          "text": [
            "Arabic Projects Columns after dropping unnecessary column:\n",
            "Index(['title', 'content'], dtype='object')\n"
          ]
        }
      ]
    },
    {
      "cell_type": "markdown",
      "source": [
        "##Convert Columns to String"
      ],
      "metadata": {
        "id": "glJzTV7Px4Ga"
      }
    },
    {
      "cell_type": "code",
      "source": [
        "text_cols_en = ['title', 'content']\n",
        "text_cols_ar = ['title', 'content']\n",
        "\n",
        "# Convert English columns to string\n",
        "for col in text_cols_en:\n",
        "    en_projects[col] = en_projects[col].astype(str)\n",
        "\n",
        "# Convert Arabic columns to string\n",
        "for col in text_cols_ar:\n",
        "    ar_projects[col] = ar_projects[col].astype(str)"
      ],
      "metadata": {
        "id": "LgmgddJLx5Ag"
      },
      "execution_count": null,
      "outputs": []
    },
    {
      "cell_type": "markdown",
      "source": [
        "##Remove Missing Values"
      ],
      "metadata": {
        "id": "rL-baCuyyA5-"
      }
    },
    {
      "cell_type": "code",
      "source": [
        "# Drop rows with missing values in English Projects\n",
        "en_projects = en_projects.dropna(subset=['title', 'content'])\n",
        "\n",
        "# Drop rows with missing values in Arabic Projects\n",
        "ar_projects = ar_projects.dropna(subset=['title', 'content'])\n",
        "\n",
        "# Check shapes after removing missing values\n",
        "print(\"English Projects Shape after removing missing values:\", en_projects.shape)\n",
        "print(\"Arabic Projects Shape after removing missing values:\", ar_projects.shape)"
      ],
      "metadata": {
        "colab": {
          "base_uri": "https://localhost:8080/"
        },
        "id": "jfJAiiW5yDD_",
        "outputId": "0b9dbc21-1fdd-4c51-80db-7841ec80f05b"
      },
      "execution_count": null,
      "outputs": [
        {
          "output_type": "stream",
          "name": "stdout",
          "text": [
            "English Projects Shape after removing missing values: (47, 2)\n",
            "Arabic Projects Shape after removing missing values: (49, 2)\n"
          ]
        }
      ]
    },
    {
      "cell_type": "markdown",
      "source": [
        "##Clean Text Formatting"
      ],
      "metadata": {
        "id": "Qw8cv14zyIHb"
      }
    },
    {
      "cell_type": "code",
      "source": [
        "# English Projects text cleaning\n",
        "for col in ['title', 'content']:\n",
        "    en_projects[col] = en_projects[col].str.replace('\\n', ' ', regex=True).str.strip()\n",
        "\n",
        "# Arabic Projects text cleaning\n",
        "for col in ['title', 'content']:\n",
        "    ar_projects[col] = ar_projects[col].str.replace('\\n', ' ', regex=True).str.strip()\n",
        "\n",
        "# Preview first rows after cleaning\n",
        "print(\"English Projects Sample after text formatting:\")\n",
        "print(en_projects.head())\n",
        "\n",
        "print(\"\\nArabic Projects Sample after text formatting:\")\n",
        "print(ar_projects.head())"
      ],
      "metadata": {
        "colab": {
          "base_uri": "https://localhost:8080/"
        },
        "id": "m5cec2JmyKv5",
        "outputId": "0d52c6ba-72eb-4869-e7af-e90345875590"
      },
      "execution_count": null,
      "outputs": [
        {
          "output_type": "stream",
          "name": "stdout",
          "text": [
            "English Projects Sample after text formatting:\n",
            "                                title  \\\n",
            "0                             Qiddiya   \n",
            "1                               ROSHN   \n",
            "2                          Riyadh Art   \n",
            "3                  Saudi Sports Track   \n",
            "4  Mohammed bin Salman Nonprofit City   \n",
            "\n",
            "                                             content  \n",
            "0  Qiddiya will be the future capital of entertai...  \n",
            "1  ROSHN Group develops large-scale projects acro...  \n",
            "2  Riyadh Art offers a vibrant world that nurture...  \n",
            "3  The Sports Boulevard inspires residents and vi...  \n",
            "4  Prince Mohammed bin Salman Nonprofit City  M...  \n",
            "\n",
            "Arabic Projects Sample after text formatting:\n",
            "                             title  \\\n",
            "0                           القدية   \n",
            "1                             روشن   \n",
            "2                       الرياض آرت   \n",
            "3                   المسار الرياضي   \n",
            "4  مدينة محمد بن سلمان غير الربحية   \n",
            "\n",
            "                                             content  \n",
            "0  ستكون القدية عاصمة المستقبل للترفيه والرياضة و...  \n",
            "1  تُطور \"مجموعة روشن\" مشاريع كبرى على مستوى المم...  \n",
            "2  تتيح لك \"الرياض آرت \" عالماً نابضاً بالحياة يغ...  \n",
            "3  يُلهم المسار الرياضي سكان وزائري مدينة الرياض ...  \n",
            "4  مدينة محمد بن سلمان غير الربحية \"مدينة مسك “هي...  \n"
          ]
        }
      ]
    },
    {
      "cell_type": "markdown",
      "source": [
        "##Remove Special Characters & Emojis"
      ],
      "metadata": {
        "id": "fqseBZEDySsN"
      }
    },
    {
      "cell_type": "code",
      "source": [
        "import re\n",
        "\n",
        "# Function to clean Arabic text\n",
        "def clean_advanced_arabic(text):\n",
        "    text = re.sub(r'[^\\w\\sء-ي]', '', text)  # Keep Arabic letters, numbers, whitespace\n",
        "    text = re.sub(r'\\s+', ' ', text).strip()  # Normalize whitespace\n",
        "    return text\n",
        "\n",
        "# Function to clean English text\n",
        "def clean_advanced_english(text):\n",
        "    text = re.sub(r'[^A-Za-z0-9\\s.,]', '', text)  # Keep letters, numbers, basic punctuation\n",
        "    text = re.sub(r'\\s+', ' ', text).strip()  # Normalize whitespace\n",
        "    return text\n",
        "\n",
        "# Apply cleaning to Arabic Projects\n",
        "for col in ['title', 'content']:\n",
        "    ar_projects[col] = ar_projects[col].apply(clean_advanced_arabic)\n",
        "\n",
        "# Apply cleaning to English Projects\n",
        "for col in ['title', 'content']:\n",
        "    en_projects[col] = en_projects[col].apply(clean_advanced_english)\n",
        "\n",
        "# Preview cleaned datasets\n",
        "print(\"Arabic Projects Sample after advanced cleaning:\")\n",
        "print(ar_projects.head())\n",
        "\n",
        "print(\"\\nEnglish Projects Sample after advanced cleaning:\")\n",
        "print(en_projects.head())"
      ],
      "metadata": {
        "colab": {
          "base_uri": "https://localhost:8080/"
        },
        "id": "IpcFkkVayUP-",
        "outputId": "c19ce430-36a4-4972-86e2-610956ff0d49"
      },
      "execution_count": null,
      "outputs": [
        {
          "output_type": "stream",
          "name": "stdout",
          "text": [
            "Arabic Projects Sample after advanced cleaning:\n",
            "                             title  \\\n",
            "0                           القدية   \n",
            "1                             روشن   \n",
            "2                       الرياض آرت   \n",
            "3                   المسار الرياضي   \n",
            "4  مدينة محمد بن سلمان غير الربحية   \n",
            "\n",
            "                                             content  \n",
            "0  ستكون القدية عاصمة المستقبل للترفيه والرياضة و...  \n",
            "1  تطور مجموعة روشن مشاريع كبرى على مستوى المملكة...  \n",
            "2  تتيح لك الرياض آرت عالما نابضا بالحياة يغذي إب...  \n",
            "3  يلهم المسار الرياضي سكان وزائري مدينة الرياض ل...  \n",
            "4  مدينة محمد بن سلمان غير الربحية مدينة مسك هي أ...  \n",
            "\n",
            "English Projects Sample after advanced cleaning:\n",
            "                                title  \\\n",
            "0                             Qiddiya   \n",
            "1                               ROSHN   \n",
            "2                          Riyadh Art   \n",
            "3                  Saudi Sports Track   \n",
            "4  Mohammed bin Salman Nonprofit City   \n",
            "\n",
            "                                             content  \n",
            "0  Qiddiya will be the future capital of entertai...  \n",
            "1  ROSHN Group develops largescale projects acros...  \n",
            "2  Riyadh Art offers a vibrant world that nurture...  \n",
            "3  The Sports Boulevard inspires residents and vi...  \n",
            "4  Prince Mohammed bin Salman Nonprofit City Misk...  \n"
          ]
        }
      ]
    },
    {
      "cell_type": "markdown",
      "source": [
        "##Calculate Content Length"
      ],
      "metadata": {
        "id": "KSfmP_8AydfG"
      }
    },
    {
      "cell_type": "code",
      "source": [
        "# English Projects content length\n",
        "en_projects['content_length'] = en_projects['content'].apply(lambda x: len(x))\n",
        "\n",
        "# Arabic Projects content length\n",
        "ar_projects['content_length'] = ar_projects['content'].apply(lambda x: len(x))\n",
        "\n",
        "# Preview first rows\n",
        "print(\"English Projects Sample with content length:\")\n",
        "print(en_projects.head())\n",
        "\n",
        "print(\"\\nArabic Projects Sample with content length:\")\n",
        "print(ar_projects.head())"
      ],
      "metadata": {
        "colab": {
          "base_uri": "https://localhost:8080/"
        },
        "id": "YRt440rQyisr",
        "outputId": "bb42c780-4cb2-4994-aa66-99aec7ebb395"
      },
      "execution_count": null,
      "outputs": [
        {
          "output_type": "stream",
          "name": "stdout",
          "text": [
            "English Projects Sample with content length:\n",
            "                                title  \\\n",
            "0                             Qiddiya   \n",
            "1                               ROSHN   \n",
            "2                          Riyadh Art   \n",
            "3                  Saudi Sports Track   \n",
            "4  Mohammed bin Salman Nonprofit City   \n",
            "\n",
            "                                             content  content_length  \n",
            "0  Qiddiya will be the future capital of entertai...            2647  \n",
            "1  ROSHN Group develops largescale projects acros...            1944  \n",
            "2  Riyadh Art offers a vibrant world that nurture...            1519  \n",
            "3  The Sports Boulevard inspires residents and vi...            1573  \n",
            "4  Prince Mohammed bin Salman Nonprofit City Misk...            1279  \n",
            "\n",
            "Arabic Projects Sample with content length:\n",
            "                             title  \\\n",
            "0                           القدية   \n",
            "1                             روشن   \n",
            "2                       الرياض آرت   \n",
            "3                   المسار الرياضي   \n",
            "4  مدينة محمد بن سلمان غير الربحية   \n",
            "\n",
            "                                             content  content_length  \n",
            "0  ستكون القدية عاصمة المستقبل للترفيه والرياضة و...            2809  \n",
            "1  تطور مجموعة روشن مشاريع كبرى على مستوى المملكة...            1789  \n",
            "2  تتيح لك الرياض آرت عالما نابضا بالحياة يغذي إب...            1385  \n",
            "3  يلهم المسار الرياضي سكان وزائري مدينة الرياض ل...            1381  \n",
            "4  مدينة محمد بن سلمان غير الربحية مدينة مسك هي أ...            1100  \n"
          ]
        }
      ]
    },
    {
      "cell_type": "markdown",
      "source": [
        "##Final Inspection & Save Cleaned Dataset"
      ],
      "metadata": {
        "id": "izT__eT8yt-S"
      }
    },
    {
      "cell_type": "code",
      "source": [
        "# Check for missing values\n",
        "print(\"English Projects Missing Values:\\n\", en_projects.isnull().sum())\n",
        "print(\"\\nArabic Projects Missing Values:\\n\", ar_projects.isnull().sum())\n",
        "\n",
        "# Check for duplicates\n",
        "print(\"\\nEnglish Projects Duplicate Rows:\", en_projects.duplicated().sum())\n",
        "print(\"Arabic Projects Duplicate Rows:\", ar_projects.duplicated().sum())"
      ],
      "metadata": {
        "colab": {
          "base_uri": "https://localhost:8080/"
        },
        "id": "2XljyZORy9V3",
        "outputId": "ed888dd4-9024-4d53-ceae-eab9b593d04b"
      },
      "execution_count": null,
      "outputs": [
        {
          "output_type": "stream",
          "name": "stdout",
          "text": [
            "English Projects Missing Values:\n",
            " title             0\n",
            "content           0\n",
            "content_length    0\n",
            "dtype: int64\n",
            "\n",
            "Arabic Projects Missing Values:\n",
            " title             0\n",
            "content           0\n",
            "content_length    0\n",
            "dtype: int64\n",
            "\n",
            "English Projects Duplicate Rows: 0\n",
            "Arabic Projects Duplicate Rows: 1\n"
          ]
        }
      ]
    },
    {
      "cell_type": "code",
      "source": [
        "# Remove duplicate rows in Arabic Projects\n",
        "ar_projects = ar_projects.drop_duplicates()\n",
        "\n",
        "# Confirm duplicates removed\n",
        "print(\"Arabic Projects Duplicate Rows after removal:\", ar_projects.duplicated().sum())"
      ],
      "metadata": {
        "colab": {
          "base_uri": "https://localhost:8080/"
        },
        "id": "YftPKq_bzDdQ",
        "outputId": "1e34ea1b-f815-4e15-a01f-4a0cfe29e2c3"
      },
      "execution_count": null,
      "outputs": [
        {
          "output_type": "stream",
          "name": "stdout",
          "text": [
            "Arabic Projects Duplicate Rows after removal: 0\n"
          ]
        }
      ]
    },
    {
      "cell_type": "markdown",
      "source": [
        "##Saving the CSV files"
      ],
      "metadata": {
        "id": "wRohxnfRzaOB"
      }
    },
    {
      "cell_type": "code",
      "source": [
        "# We use utf-8-sig to avoid encoding issues, especially with Arabic text\n",
        "en_projects.to_csv(\"English_Projects_Cleaned.csv\", index=False, encoding='utf-8-sig')\n",
        "ar_projects.to_csv(\"Arabic_Projects_Cleaned.csv\", index=False, encoding='utf-8-sig')\n",
        "\n",
        "print(\"Cleaned datasets saved successfully as CSV!\")"
      ],
      "metadata": {
        "colab": {
          "base_uri": "https://localhost:8080/"
        },
        "id": "pJS0FdGuzJ6i",
        "outputId": "f7f7c946-1c13-49c5-8b97-9fd523217350"
      },
      "execution_count": null,
      "outputs": [
        {
          "output_type": "stream",
          "name": "stdout",
          "text": [
            "\n",
            "Cleaned datasets saved successfully as CSV!\n"
          ]
        }
      ]
    },
    {
      "cell_type": "markdown",
      "source": [
        "#Characters Dataset"
      ],
      "metadata": {
        "id": "trR2t-qtzg9x"
      }
    },
    {
      "cell_type": "markdown",
      "source": [
        "##Feature Description\n",
        "**title**: Name of the historical figure.\n",
        "\n",
        "**content**: Biography or description including achievements, positions, and historical relevance.\n",
        "\n",
        "**content_length**: Number of characters in the content column."
      ],
      "metadata": {
        "id": "u9sSNpNx_ExO"
      }
    },
    {
      "cell_type": "markdown",
      "source": [
        "##Load Characters Dataset"
      ],
      "metadata": {
        "id": "d1k4yARP4Shl"
      }
    },
    {
      "cell_type": "code",
      "source": [
        "# Load datasets\n",
        "ar_characters = pd.read_excel(\"/content/historical characters.AR.xlsx\")\n",
        "en_characters = pd.read_excel(\"/content/characters ENG.xlsx\")"
      ],
      "metadata": {
        "id": "GrfNHwN03s7H"
      },
      "execution_count": null,
      "outputs": []
    },
    {
      "cell_type": "code",
      "source": [
        "# Inspect Arabic Characters dataset\n",
        "print(\"Arabic Characters Columns:\")\n",
        "print(ar_characters.columns)\n",
        "print(\"\\nArabic Characters Sample:\")\n",
        "print(ar_characters.head())"
      ],
      "metadata": {
        "colab": {
          "base_uri": "https://localhost:8080/"
        },
        "id": "XOEcYi7Y4LSC",
        "outputId": "7e56a746-4325-490c-9cac-63467849ba5c"
      },
      "execution_count": null,
      "outputs": [
        {
          "output_type": "stream",
          "name": "stdout",
          "text": [
            "Arabic Characters Columns:\n",
            "Index(['title', 'content'], dtype='object')\n",
            "\n",
            "Arabic Characters Sample:\n",
            "                                   title  \\\n",
            "0  الملك عبدالعزيز بن عبدالرحمن آل سعود.   \n",
            "1       الملك سعود بن عبدالعزيز آل سعود.   \n",
            "2       الملك فيصل بن عبدالعزيز آل سعود.   \n",
            "3       الملك خالد بن عبدالعزيز آل سعود.   \n",
            "4        الملك فهد بن عبدالعزيز آل سعود.   \n",
            "\n",
            "                                             content  \n",
            "0  \\nأبو تركي.\\nالترتيب في حكام الدولة السعودية\\n...  \n",
            "1  \\nالاسم\\nالملك سعود بن عبدالعزيز آل سعود.\\nتار...  \n",
            "2  \\n\\nالاسم\\n\\nالملك فيصل بن عبدالعزيز آل سعود.\\...  \n",
            "3  \\nالاسم\\nالملك خالد بن عبدالعزيز آل سعود.\\nالم...  \n",
            "4  الاسم\\nالملك فهد بن عبدالعزيز آل سعود.\\nالمنصب...  \n"
          ]
        }
      ]
    },
    {
      "cell_type": "code",
      "source": [
        "# Remove newlines and extra spaces for Arabic content\n",
        "ar_characters['content'] = ar_characters['content'].str.replace('\\n', ' ', regex=True).str.strip()\n",
        "\n",
        "# Preview cleaned content\n",
        "print(ar_characters['content'].head())"
      ],
      "metadata": {
        "colab": {
          "base_uri": "https://localhost:8080/"
        },
        "id": "G2vj6UPg5QO_",
        "outputId": "3b825d1e-454d-4fb9-80ec-00ed66cc21d0"
      },
      "execution_count": null,
      "outputs": [
        {
          "output_type": "stream",
          "name": "stdout",
          "text": [
            "0    أبو تركي. الترتيب في حكام الدولة السعودية التا...\n",
            "1    الاسم الملك سعود بن عبدالعزيز آل سعود. تاريخ ا...\n",
            "2    الاسم  الملك فيصل بن عبدالعزيز آل سعود. المنصب...\n",
            "3    الاسم الملك خالد بن عبدالعزيز آل سعود. المنصب ...\n",
            "4    الاسم الملك فهد بن عبدالعزيز آل سعود. المنصب خ...\n",
            "Name: content, dtype: object\n"
          ]
        }
      ]
    },
    {
      "cell_type": "markdown",
      "source": [
        "##Convert Columns to String"
      ],
      "metadata": {
        "id": "p6Oa5yVn4lRj"
      }
    },
    {
      "cell_type": "code",
      "source": [
        "# Define text columns\n",
        "text_cols = ['title', 'content']\n",
        "\n",
        "# Convert Arabic columns to string\n",
        "for col in text_cols:\n",
        "    ar_characters[col] = ar_characters[col].astype(str)\n",
        "\n",
        "# Convert English columns to string\n",
        "for col in text_cols:\n",
        "    en_characters[col] = en_characters[col].astype(str)\n",
        "\n",
        "# Preview samples\n",
        "print(\"Arabic Characters Sample after converting to string:\")\n",
        "print(ar_characters.head())\n",
        "\n",
        "print(\"\\nEnglish Characters Sample after converting to string:\")\n",
        "print(en_characters.head())"
      ],
      "metadata": {
        "colab": {
          "base_uri": "https://localhost:8080/"
        },
        "id": "GqMDe4464xyV",
        "outputId": "c6f2ee06-636a-4cae-9f83-678bb935e798"
      },
      "execution_count": null,
      "outputs": [
        {
          "output_type": "stream",
          "name": "stdout",
          "text": [
            "Arabic Characters Sample after converting to string:\n",
            "                                   title  \\\n",
            "0  الملك عبدالعزيز بن عبدالرحمن آل سعود.   \n",
            "1       الملك سعود بن عبدالعزيز آل سعود.   \n",
            "2       الملك فيصل بن عبدالعزيز آل سعود.   \n",
            "3       الملك خالد بن عبدالعزيز آل سعود.   \n",
            "4        الملك فهد بن عبدالعزيز آل سعود.   \n",
            "\n",
            "                                             content  \n",
            "0  \\nأبو تركي.\\nالترتيب في حكام الدولة السعودية\\n...  \n",
            "1  \\nالاسم\\nالملك سعود بن عبدالعزيز آل سعود.\\nتار...  \n",
            "2  \\n\\nالاسم\\n\\nالملك فيصل بن عبدالعزيز آل سعود.\\...  \n",
            "3  \\nالاسم\\nالملك خالد بن عبدالعزيز آل سعود.\\nالم...  \n",
            "4  الاسم\\nالملك فهد بن عبدالعزيز آل سعود.\\nالمنصب...  \n",
            "\n",
            "English Characters Sample after converting to string:\n",
            "                               title  \\\n",
            "0  Abdulaziz Bin Abdulrahman Al Saud   \n",
            "1         Saud Bin Abdulaziz Al Saud   \n",
            "2       Faisal Bin Abdulaziz Al Saud   \n",
            "3       Khalid Bin Abdulaziz Al Saud   \n",
            "4         Fahd Bin Abdulaziz Al Saud   \n",
            "\n",
            "                                             content  \n",
            "0  King Abdulaziz Bin Abdulrahman Bin Faisal Bin ...  \n",
            "1  King Saud Bin Abdulaziz Al Saud (1902-1969) wa...  \n",
            "2  King Faisal Bin Abdulaziz Al Saud (1906-1975) ...  \n",
            "3  King Khalid Bin Abdulaziz Al Saud (1913-1982) ...  \n",
            "4  King Fahd Bin Abdulaziz Al Saud (1921-2005), w...  \n"
          ]
        }
      ]
    },
    {
      "cell_type": "code",
      "source": [
        "# Inspect English Characters dataset\n",
        "print(\"\\nEnglish Characters Columns:\")\n",
        "print(en_characters.columns)\n",
        "print(\"\\nEnglish Characters Sample:\")\n",
        "print(en_characters.head())"
      ],
      "metadata": {
        "colab": {
          "base_uri": "https://localhost:8080/"
        },
        "id": "5o9z9drB4cYS",
        "outputId": "a4001b5a-23cd-4fe7-8fa2-f514b20b0c0c"
      },
      "execution_count": null,
      "outputs": [
        {
          "output_type": "stream",
          "name": "stdout",
          "text": [
            "\n",
            "English Characters Columns:\n",
            "Index(['title', 'content'], dtype='object')\n",
            "\n",
            "English Characters Sample:\n",
            "                               title  \\\n",
            "0  Abdulaziz Bin Abdulrahman Al Saud   \n",
            "1         Saud Bin Abdulaziz Al Saud   \n",
            "2       Faisal Bin Abdulaziz Al Saud   \n",
            "3       Khalid Bin Abdulaziz Al Saud   \n",
            "4         Fahd Bin Abdulaziz Al Saud   \n",
            "\n",
            "                                             content  \n",
            "0  King Abdulaziz Bin Abdulrahman Bin Faisal Bin ...  \n",
            "1  King Saud Bin Abdulaziz Al Saud (1902-1969) wa...  \n",
            "2  King Faisal Bin Abdulaziz Al Saud (1906-1975) ...  \n",
            "3  King Khalid Bin Abdulaziz Al Saud (1913-1982) ...  \n",
            "4  King Fahd Bin Abdulaziz Al Saud (1921-2005), w...  \n"
          ]
        }
      ]
    },
    {
      "cell_type": "markdown",
      "source": [
        "##Remove Missing Values"
      ],
      "metadata": {
        "id": "vu_xm54z5arM"
      }
    },
    {
      "cell_type": "code",
      "source": [
        "# Remove missing values in Arabic Characters\n",
        "ar_characters = ar_characters.dropna(subset=['title', 'content'])\n",
        "\n",
        "# Remove missing values in English Characters\n",
        "en_characters = en_characters.dropna(subset=['title', 'content'])\n",
        "\n",
        "# Check the shape after removal\n",
        "print(\"Arabic Characters Shape after removing missing values:\", ar_characters.shape)\n",
        "print(\"English Characters Shape after removing missing values:\", en_characters.shape)"
      ],
      "metadata": {
        "colab": {
          "base_uri": "https://localhost:8080/"
        },
        "id": "gpHINv-t5bfi",
        "outputId": "f445fae7-cdbb-4196-bbf4-ee78576f6a4e"
      },
      "execution_count": null,
      "outputs": [
        {
          "output_type": "stream",
          "name": "stdout",
          "text": [
            "Arabic Characters Shape after removing missing values: (105, 2)\n",
            "English Characters Shape after removing missing values: (105, 2)\n"
          ]
        }
      ]
    },
    {
      "cell_type": "markdown",
      "source": [
        "##Clean Text Formatting & Advanced Cleaning"
      ],
      "metadata": {
        "id": "UqF4dTJl5hzy"
      }
    },
    {
      "cell_type": "code",
      "source": [
        "# Function for Arabic advanced cleaning\n",
        "def clean_advanced_arabic(text):\n",
        "    # Remove unwanted characters, keep letters and numbers\n",
        "    text = re.sub(r'[^\\w\\sء-ي]', '', text)\n",
        "    # Replace multiple spaces with a single space\n",
        "    text = re.sub(r'\\s+', ' ', text)\n",
        "    # Strip leading and trailing spaces\n",
        "    return text.strip()\n",
        "\n",
        "# Function for English advanced cleaning\n",
        "def clean_advanced_english(text):\n",
        "    text = re.sub(r'[^A-Za-z0-9\\s.,]', '', text)\n",
        "    text = re.sub(r'\\s+', ' ', text)\n",
        "    return text.strip()\n",
        "\n",
        "# Apply cleaning\n",
        "ar_characters['content'] = ar_characters['content'].apply(clean_advanced_arabic)\n",
        "en_characters['content'] = en_characters['content'].apply(clean_advanced_english)\n",
        "\n",
        "# Preview\n",
        "print(\"Arabic Characters Sample after advanced cleaning:\")\n",
        "print(ar_characters.head())\n",
        "\n",
        "print(\"\\nEnglish Characters Sample after advanced cleaning:\")\n",
        "print(en_characters.head())"
      ],
      "metadata": {
        "colab": {
          "base_uri": "https://localhost:8080/"
        },
        "id": "T2KRw9ot5i6z",
        "outputId": "8791ff47-28b9-4fea-9078-54d10af6b007"
      },
      "execution_count": null,
      "outputs": [
        {
          "output_type": "stream",
          "name": "stdout",
          "text": [
            "Arabic Characters Sample after advanced cleaning:\n",
            "                                   title  \\\n",
            "0  الملك عبدالعزيز بن عبدالرحمن آل سعود.   \n",
            "1       الملك سعود بن عبدالعزيز آل سعود.   \n",
            "2       الملك فيصل بن عبدالعزيز آل سعود.   \n",
            "3       الملك خالد بن عبدالعزيز آل سعود.   \n",
            "4        الملك فهد بن عبدالعزيز آل سعود.   \n",
            "\n",
            "                                             content  \n",
            "0  أبو تركي الترتيب في حكام الدولة السعودية التاس...  \n",
            "1  الاسم الملك سعود بن عبدالعزيز آل سعود تاريخ ال...  \n",
            "2  الاسم الملك فيصل بن عبدالعزيز آل سعود المنصب ث...  \n",
            "3  الاسم الملك خالد بن عبدالعزيز آل سعود المنصب ر...  \n",
            "4  الاسم الملك فهد بن عبدالعزيز آل سعود المنصب خا...  \n",
            "\n",
            "English Characters Sample after advanced cleaning:\n",
            "                               title  \\\n",
            "0  Abdulaziz Bin Abdulrahman Al Saud   \n",
            "1         Saud Bin Abdulaziz Al Saud   \n",
            "2       Faisal Bin Abdulaziz Al Saud   \n",
            "3       Khalid Bin Abdulaziz Al Saud   \n",
            "4         Fahd Bin Abdulaziz Al Saud   \n",
            "\n",
            "                                             content  \n",
            "0  King Abdulaziz Bin Abdulrahman Bin Faisal Bin ...  \n",
            "1  King Saud Bin Abdulaziz Al Saud 19021969 was t...  \n",
            "2  King Faisal Bin Abdulaziz Al Saud 19061975 was...  \n",
            "3  King Khalid Bin Abdulaziz Al Saud 19131982 was...  \n",
            "4  King Fahd Bin Abdulaziz Al Saud 19212005, was ...  \n"
          ]
        }
      ]
    },
    {
      "cell_type": "markdown",
      "source": [
        "##Calculate Content Length"
      ],
      "metadata": {
        "id": "ItgAgnby5rlN"
      }
    },
    {
      "cell_type": "code",
      "source": [
        "# Add a new column for content length\n",
        "ar_characters['content_length'] = ar_characters['content'].apply(len)\n",
        "en_characters['content_length'] = en_characters['content'].apply(len)\n",
        "\n",
        "# Preview\n",
        "print(\"Arabic Characters Sample with content length:\")\n",
        "print(ar_characters[['title', 'content_length']].head())\n",
        "\n",
        "print(\"\\nEnglish Characters Sample with content length:\")\n",
        "print(en_characters[['title', 'content_length']].head())"
      ],
      "metadata": {
        "colab": {
          "base_uri": "https://localhost:8080/"
        },
        "id": "3aVNhR9K5uCf",
        "outputId": "d89b8340-263c-4589-853f-7fc1c155803e"
      },
      "execution_count": null,
      "outputs": [
        {
          "output_type": "stream",
          "name": "stdout",
          "text": [
            "Arabic Characters Sample with content length:\n",
            "                                   title  content_length\n",
            "0  الملك عبدالعزيز بن عبدالرحمن آل سعود.           31619\n",
            "1       الملك سعود بن عبدالعزيز آل سعود.           31820\n",
            "2       الملك فيصل بن عبدالعزيز آل سعود.           31667\n",
            "3       الملك خالد بن عبدالعزيز آل سعود.           31602\n",
            "4        الملك فهد بن عبدالعزيز آل سعود.           31725\n",
            "\n",
            "English Characters Sample with content length:\n",
            "                               title  content_length\n",
            "0  Abdulaziz Bin Abdulrahman Al Saud           32523\n",
            "1         Saud Bin Abdulaziz Al Saud           32642\n",
            "2       Faisal Bin Abdulaziz Al Saud           32631\n",
            "3       Khalid Bin Abdulaziz Al Saud           32611\n",
            "4         Fahd Bin Abdulaziz Al Saud           32633\n"
          ]
        }
      ]
    },
    {
      "cell_type": "markdown",
      "source": [
        "##Remove Duplicates"
      ],
      "metadata": {
        "id": "1gYp40Qj54cW"
      }
    },
    {
      "cell_type": "code",
      "source": [
        "# Remove duplicate rows\n",
        "ar_characters = ar_characters.drop_duplicates()\n",
        "en_characters = en_characters.drop_duplicates()\n",
        "\n",
        "# Check shapes after removing duplicates\n",
        "print(\"Arabic Characters Shape after removing duplicates:\", ar_characters.shape)\n",
        "print(\"English Characters Shape after removing duplicates:\", en_characters.shape)"
      ],
      "metadata": {
        "colab": {
          "base_uri": "https://localhost:8080/"
        },
        "id": "DiLMl05T51xB",
        "outputId": "943e6f50-e037-48fa-ac35-0847f212a47a"
      },
      "execution_count": null,
      "outputs": [
        {
          "output_type": "stream",
          "name": "stdout",
          "text": [
            "Arabic Characters Shape after removing duplicates: (101, 3)\n",
            "English Characters Shape after removing duplicates: (101, 3)\n"
          ]
        }
      ]
    },
    {
      "cell_type": "code",
      "source": [
        "# Check for missing values\n",
        "print(\"English Characters Missing Values:\\n\", en_characters.isnull().sum())\n",
        "print(\"\\nArabic Characters Missing Values:\\n\", ar_characters.isnull().sum())"
      ],
      "metadata": {
        "colab": {
          "base_uri": "https://localhost:8080/"
        },
        "id": "6svzdDlD6XRg",
        "outputId": "4d06e789-2d02-45a2-c336-e424498234e0"
      },
      "execution_count": null,
      "outputs": [
        {
          "output_type": "stream",
          "name": "stdout",
          "text": [
            "English Characters Missing Values:\n",
            " title             0\n",
            "content           0\n",
            "content_length    0\n",
            "dtype: int64\n",
            "\n",
            "Arabic Characters Missing Values:\n",
            " title             0\n",
            "content           0\n",
            "content_length    0\n",
            "dtype: int64\n"
          ]
        }
      ]
    },
    {
      "cell_type": "markdown",
      "source": [
        "##Final Inspection & Save"
      ],
      "metadata": {
        "id": "XzUA7ujq6nsB"
      }
    },
    {
      "cell_type": "code",
      "source": [
        "# Check for missing values one last time\n",
        "print(\"Arabic Characters Missing Values:\\n\", ar_characters.isnull().sum())\n",
        "print(\"\\nEnglish Characters Missing Values:\\n\", en_characters.isnull().sum())\n",
        "\n",
        "# Save cleaned datasets as CSV\n",
        "ar_characters.to_csv(\"Arabic_Characters_Cleaned.csv\", index=False, encoding='utf-8-sig')  # Using utf-8-sig for Arabic\n",
        "en_characters.to_csv(\"English_Characters_Cleaned.csv\", index=False, encoding='utf-8-sig')\n",
        "\n",
        "print(\"\\nDatasets saved successfully!\")"
      ],
      "metadata": {
        "colab": {
          "base_uri": "https://localhost:8080/"
        },
        "id": "CNggHNUF6qf9",
        "outputId": "cc23fec8-f9e4-4d5d-dd58-404a5977fae5"
      },
      "execution_count": null,
      "outputs": [
        {
          "output_type": "stream",
          "name": "stdout",
          "text": [
            "Arabic Characters Missing Values:\n",
            " title             0\n",
            "content           0\n",
            "content_length    0\n",
            "dtype: int64\n",
            "\n",
            "English Characters Missing Values:\n",
            " title             0\n",
            "content           0\n",
            "content_length    0\n",
            "dtype: int64\n",
            "\n",
            "Datasets saved successfully!\n"
          ]
        }
      ]
    }
  ]
}